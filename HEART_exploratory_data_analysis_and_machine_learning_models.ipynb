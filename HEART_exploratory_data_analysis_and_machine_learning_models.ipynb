{
  "cells": [
    {
      "cell_type": "markdown",
      "metadata": {
        "provenance": [
          {
            "last_modified": "2021-06-16T03:17:32.755Z",
            "source": "# Importing Libraries"
          },
          {
            "last_modified": "2021-06-16T03:47:23.684Z",
            "source": "# Importing Libraries"
          },
          {
            "last_modified": "2021-06-16T06:47:52.667Z",
            "source": "# Importing Libraries"
          }
        ],
        "id": "7VnpwtlwR_4V"
      },
      "source": [
        "# Importing Libraries"
      ]
    },
    {
      "cell_type": "code",
      "execution_count": 34,
      "metadata": {
        "ExecutionTime": {
          "end_time": "2021-07-01T18:46:22.706557Z",
          "start_time": "2021-07-01T18:46:21.095572Z"
        },
        "provenance": [
          {
            "end_time": "Unknown",
            "execution_time": "Unknown",
            "outputs": [],
            "source": "",
            "start_time": "Unknown"
          },
          {
            "end_time": "2021-06-16T03:05:44.868Z",
            "execution_time": "3.03s",
            "outputs": [],
            "source": "import pandas as pd\nimport numpy as np\nimport matplotlib.pyplot as plt\nimport seaborn as sns\n%matplotlib inline\n#from sklearn.ensemble import RandomForestClassifier, GradientBoostingClassifier, BaggingClassifier, AdaBoostClassifier\n#from xgboost import XGBClassifier\n#from catboost import CatBoostClassifier\n#from lightgbm import LGBMClassifier\n#from sklearn.metrics import roc_auc_score, classification_report, confusion_matrix, accuracy_score, f1_score\n#from sklearn.model_selection import StratifiedKFold, KFold, train_test_split",
            "start_time": "2021-06-16T03:05:41.834Z"
          },
          {
            "end_time": "2021-06-16T08:25:25.909Z",
            "execution_time": "13ms",
            "outputs": [],
            "source": "import pandas as pd\nimport numpy as np\nimport matplotlib.pyplot as plt\nimport seaborn as sns\n%matplotlib inline\n#from sklearn.ensemble import RandomForestClassifier, GradientBoostingClassifier, BaggingClassifier, AdaBoostClassifier\n#from xgboost import XGBClassifier\n#from catboost import CatBoostClassifier\n#from lightgbm import LGBMClassifier\n#from sklearn.metrics import roc_auc_score, classification_report, confusion_matrix, accuracy_score, f1_score\n#from sklearn.model_selection import StratifiedKFold, KFold, train_test_split",
            "start_time": "2021-06-16T08:25:25.896Z"
          },
          {
            "end_time": "2021-06-30T08:15:37.004Z",
            "execution_time": "1.87s",
            "outputs": [],
            "source": "import pandas as pd\nimport numpy as np\nimport matplotlib.pyplot as plt\nimport seaborn as sns\n%matplotlib inline\n#from sklearn.ensemble import RandomForestClassifier, GradientBoostingClassifier, BaggingClassifier, AdaBoostClassifier\n#from xgboost import XGBClassifier\n#from catboost import CatBoostClassifier\n#from lightgbm import LGBMClassifier\n#from sklearn.metrics import roc_auc_score, classification_report, confusion_matrix, accuracy_score, f1_score\n#from sklearn.model_selection import StratifiedKFold, KFold, train_test_split",
            "start_time": "2021-06-30T08:15:35.131Z"
          },
          {
            "end_time": "2021-06-30T08:44:22.134Z",
            "execution_time": "15ms",
            "outputs": [],
            "source": "import pandas as pd\nimport numpy as np\nimport matplotlib.pyplot as plt\nimport seaborn as sns\n%matplotlib inline\n#from sklearn.ensemble import RandomForestClassifier, GradientBoostingClassifier, BaggingClassifier, AdaBoostClassifier\n#from xgboost import XGBClassifier\n#from catboost import CatBoostClassifier\n#from lightgbm import LGBMClassifier\n#from sklearn.metrics import roc_auc_score, classification_report, confusion_matrix, accuracy_score, f1_score\n#from sklearn.model_selection import StratifiedKFold, KFold, train_test_split",
            "start_time": "2021-06-30T08:44:22.119Z"
          },
          {
            "end_time": "2021-07-01T18:46:22.706Z",
            "execution_time": "1.61s",
            "outputs": [],
            "source": "import pandas as pd\nimport numpy as np\nimport matplotlib.pyplot as plt\nimport seaborn as sns\n%matplotlib inline\n#from sklearn.ensemble import RandomForestClassifier, GradientBoostingClassifier, BaggingClassifier, AdaBoostClassifier\n#from xgboost import XGBClassifier\n#from catboost import CatBoostClassifier\n#from lightgbm import LGBMClassifier\n#from sklearn.metrics import roc_auc_score, classification_report, confusion_matrix, accuracy_score, f1_score\n#from sklearn.model_selection import StratifiedKFold, KFold, train_test_split",
            "start_time": "2021-07-01T18:46:21.095Z"
          }
        ],
        "id": "t9Wkj62CR_4k",
        "colab": {
          "base_uri": "https://localhost:8080/"
        },
        "outputId": "6cfd4e93-1487-4644-965e-f6b0c4f8284a"
      },
      "outputs": [
        {
          "output_type": "stream",
          "name": "stdout",
          "text": [
            "Looking in indexes: https://pypi.org/simple, https://us-python.pkg.dev/colab-wheels/public/simple/\n",
            "Requirement already satisfied: category_encoders in /usr/local/lib/python3.7/dist-packages (2.5.1.post0)\n",
            "Requirement already satisfied: statsmodels>=0.9.0 in /usr/local/lib/python3.7/dist-packages (from category_encoders) (0.12.2)\n",
            "Requirement already satisfied: numpy>=1.14.0 in /usr/local/lib/python3.7/dist-packages (from category_encoders) (1.21.6)\n",
            "Requirement already satisfied: patsy>=0.5.1 in /usr/local/lib/python3.7/dist-packages (from category_encoders) (0.5.3)\n",
            "Requirement already satisfied: scipy>=1.0.0 in /usr/local/lib/python3.7/dist-packages (from category_encoders) (1.7.3)\n",
            "Requirement already satisfied: scikit-learn>=0.20.0 in /usr/local/lib/python3.7/dist-packages (from category_encoders) (1.0.2)\n",
            "Requirement already satisfied: pandas>=1.0.5 in /usr/local/lib/python3.7/dist-packages (from category_encoders) (1.3.5)\n",
            "Requirement already satisfied: python-dateutil>=2.7.3 in /usr/local/lib/python3.7/dist-packages (from pandas>=1.0.5->category_encoders) (2.8.2)\n",
            "Requirement already satisfied: pytz>=2017.3 in /usr/local/lib/python3.7/dist-packages (from pandas>=1.0.5->category_encoders) (2022.5)\n",
            "Requirement already satisfied: six in /usr/local/lib/python3.7/dist-packages (from patsy>=0.5.1->category_encoders) (1.15.0)\n",
            "Requirement already satisfied: joblib>=0.11 in /usr/local/lib/python3.7/dist-packages (from scikit-learn>=0.20.0->category_encoders) (1.2.0)\n",
            "Requirement already satisfied: threadpoolctl>=2.0.0 in /usr/local/lib/python3.7/dist-packages (from scikit-learn>=0.20.0->category_encoders) (3.1.0)\n"
          ]
        }
      ],
      "source": [
        "import pandas as pd\n",
        "import numpy as np\n",
        "import matplotlib.pyplot as plt\n",
        "import seaborn as sns\n",
        "%matplotlib inline\n",
        "from glob import glob\n",
        "\n",
        "\n",
        "\n",
        "\n",
        "from ipywidgets import Dropdown, FloatSlider, IntSlider, interact\n",
        "from sklearn.impute import SimpleImputer\n",
        "from sklearn.linear_model import LinearRegression, Ridge  # noqa F401\n",
        "from sklearn.metrics import mean_absolute_error\n",
        "from sklearn.pipeline import make_pipeline\n",
        "from sklearn.utils.validation import check_is_fitted\n",
        "from sklearn.model_selection import train_test_split\n",
        "\n",
        "\n",
        "!pip install category_encoders\n",
        "from category_encoders import OneHotEncoder\n",
        "from sklearn.ensemble import RandomForestClassifier, GradientBoostingClassifier, BaggingClassifier, AdaBoostClassifier\n",
        "#from xgboost import XGBClassifier\n",
        "#from catboost import CatBoostClassifier\n",
        "#from lightgbm import LGBMClassifier\n",
        "#from sklearn.metrics import roc_auc_score, classification_report, confusion_matrix, accuracy_score, f1_score\n",
        "#from sklearn.model_selection import StratifiedKFold, KFold, train_test_split"
      ]
    },
    {
      "cell_type": "markdown",
      "metadata": {
        "provenance": [
          {
            "last_modified": "2021-06-16T03:17:32.755Z",
            "source": "# Loading the data set"
          },
          {
            "last_modified": "2021-06-16T03:47:23.684Z",
            "source": "# Loading the data set"
          },
          {
            "last_modified": "2021-06-16T06:47:52.667Z",
            "source": "# Loading the data set"
          }
        ],
        "id": "9YywYe_bR_4r"
      },
      "source": [
        "# Loading the data set"
      ]
    },
    {
      "cell_type": "code",
      "execution_count": 3,
      "metadata": {
        "ExecutionTime": {
          "end_time": "2021-07-01T18:46:35.670514Z",
          "start_time": "2021-07-01T18:46:35.652562Z"
        },
        "provenance": [
          {
            "end_time": "Unknown",
            "execution_time": "Unknown",
            "outputs": [],
            "source": "df = pd.read_csv('gtzan_features.csv')",
            "start_time": "Unknown"
          },
          {
            "end_time": "2021-06-16T03:05:50.893Z",
            "execution_time": "81ms",
            "outputs": [],
            "source": "df = pd.read_csv('titanic_train.csv')",
            "start_time": "2021-06-16T03:05:50.812Z"
          },
          {
            "end_time": "2021-06-16T08:26:44.656Z",
            "execution_time": "17ms",
            "outputs": [],
            "source": "df = pd.read_csv('titanic_train.csv')",
            "start_time": "2021-06-16T08:26:44.639Z"
          },
          {
            "end_time": "2021-06-30T08:15:39.873Z",
            "execution_time": "29ms",
            "outputs": [],
            "source": "df = pd.read_csv('titanic_train.csv')",
            "start_time": "2021-06-30T08:15:39.844Z"
          },
          {
            "end_time": "2021-06-30T08:44:25.888Z",
            "execution_time": "19ms",
            "outputs": [],
            "source": "df = pd.read_csv('titanic_train.csv')",
            "start_time": "2021-06-30T08:44:25.869Z"
          },
          {
            "end_time": "2021-07-01T18:46:35.670Z",
            "execution_time": "18ms",
            "outputs": [],
            "source": "df = pd.read_csv('heart.csv')",
            "start_time": "2021-07-01T18:46:35.652Z"
          }
        ],
        "id": "2XJKeuPpR_4t"
      },
      "outputs": [],
      "source": [
        "df = pd.read_csv('/content/heart.csv')"
      ]
    },
    {
      "cell_type": "code",
      "execution_count": 4,
      "metadata": {
        "ExecutionTime": {
          "end_time": "2021-07-01T18:46:41.501209Z",
          "start_time": "2021-07-01T18:46:41.477275Z"
        },
        "provenance": [
          {
            "end_time": "Unknown",
            "execution_time": "Unknown",
            "outputs": [],
            "source": "df.head()",
            "start_time": "Unknown"
          },
          {
            "end_time": "2021-06-16T03:05:54.994Z",
            "execution_time": "114ms",
            "outputs": [
              {
                "data": {
                  "text/html": "<div>\n<style scoped>\n    .dataframe tbody tr th:only-of-type {\n        vertical-align: middle;\n    }\n\n    .dataframe tbody tr th {\n        vertical-align: top;\n    }\n\n    .dataframe thead th {\n        text-align: right;\n    }\n</style>\n<table border=\"1\" class=\"dataframe\">\n  <thead>\n    <tr style=\"text-align: right;\">\n      <th></th>\n      <th>PassengerId</th>\n      <th>Survived</th>\n      <th>Pclass</th>\n      <th>Name</th>\n      <th>Sex</th>\n      <th>Age</th>\n      <th>SibSp</th>\n      <th>Parch</th>\n      <th>Ticket</th>\n      <th>Fare</th>\n      <th>Cabin</th>\n      <th>Embarked</th>\n    </tr>\n  </thead>\n  <tbody>\n    <tr>\n      <th>0</th>\n      <td>1</td>\n      <td>0</td>\n      <td>3</td>\n      <td>Braund, Mr. Owen Harris</td>\n      <td>male</td>\n      <td>22.0</td>\n      <td>1</td>\n      <td>0</td>\n      <td>A/5 21171</td>\n      <td>7.2500</td>\n      <td>NaN</td>\n      <td>S</td>\n    </tr>\n    <tr>\n      <th>1</th>\n      <td>2</td>\n      <td>1</td>\n      <td>1</td>\n      <td>Cumings, Mrs. John Bradley (Florence Briggs Th...</td>\n      <td>female</td>\n      <td>38.0</td>\n      <td>1</td>\n      <td>0</td>\n      <td>PC 17599</td>\n      <td>71.2833</td>\n      <td>C85</td>\n      <td>C</td>\n    </tr>\n    <tr>\n      <th>2</th>\n      <td>3</td>\n      <td>1</td>\n      <td>3</td>\n      <td>Heikkinen, Miss. Laina</td>\n      <td>female</td>\n      <td>26.0</td>\n      <td>0</td>\n      <td>0</td>\n      <td>STON/O2. 3101282</td>\n      <td>7.9250</td>\n      <td>NaN</td>\n      <td>S</td>\n    </tr>\n    <tr>\n      <th>3</th>\n      <td>4</td>\n      <td>1</td>\n      <td>1</td>\n      <td>Futrelle, Mrs. Jacques Heath (Lily May Peel)</td>\n      <td>female</td>\n      <td>35.0</td>\n      <td>1</td>\n      <td>0</td>\n      <td>113803</td>\n      <td>53.1000</td>\n      <td>C123</td>\n      <td>S</td>\n    </tr>\n    <tr>\n      <th>4</th>\n      <td>5</td>\n      <td>0</td>\n      <td>3</td>\n      <td>Allen, Mr. William Henry</td>\n      <td>male</td>\n      <td>35.0</td>\n      <td>0</td>\n      <td>0</td>\n      <td>373450</td>\n      <td>8.0500</td>\n      <td>NaN</td>\n      <td>S</td>\n    </tr>\n  </tbody>\n</table>\n</div>",
                  "text/plain": "   PassengerId  Survived  Pclass  \\\n0            1         0       3   \n1            2         1       1   \n2            3         1       3   \n3            4         1       1   \n4            5         0       3   \n\n                                                Name     Sex   Age  SibSp  \\\n0                            Braund, Mr. Owen Harris    male  22.0      1   \n1  Cumings, Mrs. John Bradley (Florence Briggs Th...  female  38.0      1   \n2                             Heikkinen, Miss. Laina  female  26.0      0   \n3       Futrelle, Mrs. Jacques Heath (Lily May Peel)  female  35.0      1   \n4                           Allen, Mr. William Henry    male  35.0      0   \n\n   Parch            Ticket     Fare Cabin Embarked  \n0      0         A/5 21171   7.2500   NaN        S  \n1      0          PC 17599  71.2833   C85        C  \n2      0  STON/O2. 3101282   7.9250   NaN        S  \n3      0            113803  53.1000  C123        S  \n4      0            373450   8.0500   NaN        S  "
                },
                "execution_count": 3,
                "metadata": {},
                "output_type": "execute_result"
              }
            ],
            "source": "df.head()",
            "start_time": "2021-06-16T03:05:54.880Z"
          },
          {
            "end_time": "2021-06-16T08:27:19.313Z",
            "execution_time": "20ms",
            "outputs": [
              {
                "data": {
                  "text/html": "<div>\n<style scoped>\n    .dataframe tbody tr th:only-of-type {\n        vertical-align: middle;\n    }\n\n    .dataframe tbody tr th {\n        vertical-align: top;\n    }\n\n    .dataframe thead th {\n        text-align: right;\n    }\n</style>\n<table border=\"1\" class=\"dataframe\">\n  <thead>\n    <tr style=\"text-align: right;\">\n      <th></th>\n      <th>PassengerId</th>\n      <th>Survived</th>\n      <th>Pclass</th>\n      <th>Name</th>\n      <th>Sex</th>\n      <th>Age</th>\n      <th>SibSp</th>\n      <th>Parch</th>\n      <th>Ticket</th>\n      <th>Fare</th>\n      <th>Cabin</th>\n      <th>Embarked</th>\n    </tr>\n  </thead>\n  <tbody>\n    <tr>\n      <th>0</th>\n      <td>1</td>\n      <td>0</td>\n      <td>3</td>\n      <td>Braund, Mr. Owen Harris</td>\n      <td>male</td>\n      <td>22.0</td>\n      <td>1</td>\n      <td>0</td>\n      <td>A/5 21171</td>\n      <td>7.2500</td>\n      <td>NaN</td>\n      <td>S</td>\n    </tr>\n    <tr>\n      <th>1</th>\n      <td>2</td>\n      <td>1</td>\n      <td>1</td>\n      <td>Cumings, Mrs. John Bradley (Florence Briggs Th...</td>\n      <td>female</td>\n      <td>38.0</td>\n      <td>1</td>\n      <td>0</td>\n      <td>PC 17599</td>\n      <td>71.2833</td>\n      <td>C85</td>\n      <td>C</td>\n    </tr>\n    <tr>\n      <th>2</th>\n      <td>3</td>\n      <td>1</td>\n      <td>3</td>\n      <td>Heikkinen, Miss. Laina</td>\n      <td>female</td>\n      <td>26.0</td>\n      <td>0</td>\n      <td>0</td>\n      <td>STON/O2. 3101282</td>\n      <td>7.9250</td>\n      <td>NaN</td>\n      <td>S</td>\n    </tr>\n    <tr>\n      <th>3</th>\n      <td>4</td>\n      <td>1</td>\n      <td>1</td>\n      <td>Futrelle, Mrs. Jacques Heath (Lily May Peel)</td>\n      <td>female</td>\n      <td>35.0</td>\n      <td>1</td>\n      <td>0</td>\n      <td>113803</td>\n      <td>53.1000</td>\n      <td>C123</td>\n      <td>S</td>\n    </tr>\n    <tr>\n      <th>4</th>\n      <td>5</td>\n      <td>0</td>\n      <td>3</td>\n      <td>Allen, Mr. William Henry</td>\n      <td>male</td>\n      <td>35.0</td>\n      <td>0</td>\n      <td>0</td>\n      <td>373450</td>\n      <td>8.0500</td>\n      <td>NaN</td>\n      <td>S</td>\n    </tr>\n  </tbody>\n</table>\n</div>",
                  "text/plain": "   PassengerId  Survived  Pclass  \\\n0            1         0       3   \n1            2         1       1   \n2            3         1       3   \n3            4         1       1   \n4            5         0       3   \n\n                                                Name     Sex   Age  SibSp  \\\n0                            Braund, Mr. Owen Harris    male  22.0      1   \n1  Cumings, Mrs. John Bradley (Florence Briggs Th...  female  38.0      1   \n2                             Heikkinen, Miss. Laina  female  26.0      0   \n3       Futrelle, Mrs. Jacques Heath (Lily May Peel)  female  35.0      1   \n4                           Allen, Mr. William Henry    male  35.0      0   \n\n   Parch            Ticket     Fare Cabin Embarked  \n0      0         A/5 21171   7.2500   NaN        S  \n1      0          PC 17599  71.2833   C85        C  \n2      0  STON/O2. 3101282   7.9250   NaN        S  \n3      0            113803  53.1000  C123        S  \n4      0            373450   8.0500   NaN        S  "
                },
                "execution_count": 33,
                "metadata": {},
                "output_type": "execute_result"
              }
            ],
            "source": "df.head()",
            "start_time": "2021-06-16T08:27:19.293Z"
          },
          {
            "end_time": "2021-06-30T08:15:43.997Z",
            "execution_time": "38ms",
            "outputs": [
              {
                "data": {
                  "text/html": "<div>\n<style scoped>\n    .dataframe tbody tr th:only-of-type {\n        vertical-align: middle;\n    }\n\n    .dataframe tbody tr th {\n        vertical-align: top;\n    }\n\n    .dataframe thead th {\n        text-align: right;\n    }\n</style>\n<table border=\"1\" class=\"dataframe\">\n  <thead>\n    <tr style=\"text-align: right;\">\n      <th></th>\n      <th>PassengerId</th>\n      <th>Survived</th>\n      <th>Pclass</th>\n      <th>Name</th>\n      <th>Sex</th>\n      <th>Age</th>\n      <th>SibSp</th>\n      <th>Parch</th>\n      <th>Ticket</th>\n      <th>Fare</th>\n      <th>Cabin</th>\n      <th>Embarked</th>\n    </tr>\n  </thead>\n  <tbody>\n    <tr>\n      <th>0</th>\n      <td>1</td>\n      <td>0</td>\n      <td>3</td>\n      <td>Braund, Mr. Owen Harris</td>\n      <td>male</td>\n      <td>22.0</td>\n      <td>1</td>\n      <td>0</td>\n      <td>A/5 21171</td>\n      <td>7.2500</td>\n      <td>NaN</td>\n      <td>S</td>\n    </tr>\n    <tr>\n      <th>1</th>\n      <td>2</td>\n      <td>1</td>\n      <td>1</td>\n      <td>Cumings, Mrs. John Bradley (Florence Briggs Th...</td>\n      <td>female</td>\n      <td>38.0</td>\n      <td>1</td>\n      <td>0</td>\n      <td>PC 17599</td>\n      <td>71.2833</td>\n      <td>C85</td>\n      <td>C</td>\n    </tr>\n    <tr>\n      <th>2</th>\n      <td>3</td>\n      <td>1</td>\n      <td>3</td>\n      <td>Heikkinen, Miss. Laina</td>\n      <td>female</td>\n      <td>26.0</td>\n      <td>0</td>\n      <td>0</td>\n      <td>STON/O2. 3101282</td>\n      <td>7.9250</td>\n      <td>NaN</td>\n      <td>S</td>\n    </tr>\n    <tr>\n      <th>3</th>\n      <td>4</td>\n      <td>1</td>\n      <td>1</td>\n      <td>Futrelle, Mrs. Jacques Heath (Lily May Peel)</td>\n      <td>female</td>\n      <td>35.0</td>\n      <td>1</td>\n      <td>0</td>\n      <td>113803</td>\n      <td>53.1000</td>\n      <td>C123</td>\n      <td>S</td>\n    </tr>\n    <tr>\n      <th>4</th>\n      <td>5</td>\n      <td>0</td>\n      <td>3</td>\n      <td>Allen, Mr. William Henry</td>\n      <td>male</td>\n      <td>35.0</td>\n      <td>0</td>\n      <td>0</td>\n      <td>373450</td>\n      <td>8.0500</td>\n      <td>NaN</td>\n      <td>S</td>\n    </tr>\n  </tbody>\n</table>\n</div>",
                  "text/plain": "   PassengerId  Survived  Pclass  \\\n0            1         0       3   \n1            2         1       1   \n2            3         1       3   \n3            4         1       1   \n4            5         0       3   \n\n                                                Name     Sex   Age  SibSp  \\\n0                            Braund, Mr. Owen Harris    male  22.0      1   \n1  Cumings, Mrs. John Bradley (Florence Briggs Th...  female  38.0      1   \n2                             Heikkinen, Miss. Laina  female  26.0      0   \n3       Futrelle, Mrs. Jacques Heath (Lily May Peel)  female  35.0      1   \n4                           Allen, Mr. William Henry    male  35.0      0   \n\n   Parch            Ticket     Fare Cabin Embarked  \n0      0         A/5 21171   7.2500   NaN        S  \n1      0          PC 17599  71.2833   C85        C  \n2      0  STON/O2. 3101282   7.9250   NaN        S  \n3      0            113803  53.1000  C123        S  \n4      0            373450   8.0500   NaN        S  "
                },
                "execution_count": 3,
                "metadata": {},
                "output_type": "execute_result"
              }
            ],
            "source": "df.head()",
            "start_time": "2021-06-30T08:15:43.959Z"
          },
          {
            "end_time": "2021-06-30T08:15:51.358Z",
            "execution_time": "22ms",
            "outputs": [
              {
                "data": {
                  "text/html": "<div>\n<style scoped>\n    .dataframe tbody tr th:only-of-type {\n        vertical-align: middle;\n    }\n\n    .dataframe tbody tr th {\n        vertical-align: top;\n    }\n\n    .dataframe thead th {\n        text-align: right;\n    }\n</style>\n<table border=\"1\" class=\"dataframe\">\n  <thead>\n    <tr style=\"text-align: right;\">\n      <th></th>\n      <th>PassengerId</th>\n      <th>Survived</th>\n      <th>Pclass</th>\n      <th>Name</th>\n      <th>Sex</th>\n      <th>Age</th>\n      <th>SibSp</th>\n      <th>Parch</th>\n      <th>Ticket</th>\n      <th>Fare</th>\n      <th>Cabin</th>\n      <th>Embarked</th>\n    </tr>\n  </thead>\n  <tbody>\n    <tr>\n      <th>0</th>\n      <td>1</td>\n      <td>0</td>\n      <td>3</td>\n      <td>Braund, Mr. Owen Harris</td>\n      <td>male</td>\n      <td>22.0</td>\n      <td>1</td>\n      <td>0</td>\n      <td>A/5 21171</td>\n      <td>7.2500</td>\n      <td>NaN</td>\n      <td>S</td>\n    </tr>\n    <tr>\n      <th>1</th>\n      <td>2</td>\n      <td>1</td>\n      <td>1</td>\n      <td>Cumings, Mrs. John Bradley (Florence Briggs Th...</td>\n      <td>female</td>\n      <td>38.0</td>\n      <td>1</td>\n      <td>0</td>\n      <td>PC 17599</td>\n      <td>71.2833</td>\n      <td>C85</td>\n      <td>C</td>\n    </tr>\n    <tr>\n      <th>2</th>\n      <td>3</td>\n      <td>1</td>\n      <td>3</td>\n      <td>Heikkinen, Miss. Laina</td>\n      <td>female</td>\n      <td>26.0</td>\n      <td>0</td>\n      <td>0</td>\n      <td>STON/O2. 3101282</td>\n      <td>7.9250</td>\n      <td>NaN</td>\n      <td>S</td>\n    </tr>\n    <tr>\n      <th>3</th>\n      <td>4</td>\n      <td>1</td>\n      <td>1</td>\n      <td>Futrelle, Mrs. Jacques Heath (Lily May Peel)</td>\n      <td>female</td>\n      <td>35.0</td>\n      <td>1</td>\n      <td>0</td>\n      <td>113803</td>\n      <td>53.1000</td>\n      <td>C123</td>\n      <td>S</td>\n    </tr>\n    <tr>\n      <th>4</th>\n      <td>5</td>\n      <td>0</td>\n      <td>3</td>\n      <td>Allen, Mr. William Henry</td>\n      <td>male</td>\n      <td>35.0</td>\n      <td>0</td>\n      <td>0</td>\n      <td>373450</td>\n      <td>8.0500</td>\n      <td>NaN</td>\n      <td>S</td>\n    </tr>\n    <tr>\n      <th>5</th>\n      <td>6</td>\n      <td>0</td>\n      <td>3</td>\n      <td>Moran, Mr. James</td>\n      <td>male</td>\n      <td>NaN</td>\n      <td>0</td>\n      <td>0</td>\n      <td>330877</td>\n      <td>8.4583</td>\n      <td>NaN</td>\n      <td>Q</td>\n    </tr>\n    <tr>\n      <th>6</th>\n      <td>7</td>\n      <td>0</td>\n      <td>1</td>\n      <td>McCarthy, Mr. Timothy J</td>\n      <td>male</td>\n      <td>54.0</td>\n      <td>0</td>\n      <td>0</td>\n      <td>17463</td>\n      <td>51.8625</td>\n      <td>E46</td>\n      <td>S</td>\n    </tr>\n  </tbody>\n</table>\n</div>",
                  "text/plain": "   PassengerId  Survived  Pclass  \\\n0            1         0       3   \n1            2         1       1   \n2            3         1       3   \n3            4         1       1   \n4            5         0       3   \n5            6         0       3   \n6            7         0       1   \n\n                                                Name     Sex   Age  SibSp  \\\n0                            Braund, Mr. Owen Harris    male  22.0      1   \n1  Cumings, Mrs. John Bradley (Florence Briggs Th...  female  38.0      1   \n2                             Heikkinen, Miss. Laina  female  26.0      0   \n3       Futrelle, Mrs. Jacques Heath (Lily May Peel)  female  35.0      1   \n4                           Allen, Mr. William Henry    male  35.0      0   \n5                                   Moran, Mr. James    male   NaN      0   \n6                            McCarthy, Mr. Timothy J    male  54.0      0   \n\n   Parch            Ticket     Fare Cabin Embarked  \n0      0         A/5 21171   7.2500   NaN        S  \n1      0          PC 17599  71.2833   C85        C  \n2      0  STON/O2. 3101282   7.9250   NaN        S  \n3      0            113803  53.1000  C123        S  \n4      0            373450   8.0500   NaN        S  \n5      0            330877   8.4583   NaN        Q  \n6      0             17463  51.8625   E46        S  "
                },
                "execution_count": 4,
                "metadata": {},
                "output_type": "execute_result"
              }
            ],
            "source": "df.head(7)",
            "start_time": "2021-06-30T08:15:51.336Z"
          },
          {
            "end_time": "2021-06-30T08:15:57.945Z",
            "execution_time": "19ms",
            "outputs": [
              {
                "data": {
                  "text/html": "<div>\n<style scoped>\n    .dataframe tbody tr th:only-of-type {\n        vertical-align: middle;\n    }\n\n    .dataframe tbody tr th {\n        vertical-align: top;\n    }\n\n    .dataframe thead th {\n        text-align: right;\n    }\n</style>\n<table border=\"1\" class=\"dataframe\">\n  <thead>\n    <tr style=\"text-align: right;\">\n      <th></th>\n      <th>PassengerId</th>\n      <th>Survived</th>\n      <th>Pclass</th>\n      <th>Name</th>\n      <th>Sex</th>\n      <th>Age</th>\n      <th>SibSp</th>\n      <th>Parch</th>\n      <th>Ticket</th>\n      <th>Fare</th>\n      <th>Cabin</th>\n      <th>Embarked</th>\n    </tr>\n  </thead>\n  <tbody>\n    <tr>\n      <th>0</th>\n      <td>1</td>\n      <td>0</td>\n      <td>3</td>\n      <td>Braund, Mr. Owen Harris</td>\n      <td>male</td>\n      <td>22.0</td>\n      <td>1</td>\n      <td>0</td>\n      <td>A/5 21171</td>\n      <td>7.2500</td>\n      <td>NaN</td>\n      <td>S</td>\n    </tr>\n    <tr>\n      <th>1</th>\n      <td>2</td>\n      <td>1</td>\n      <td>1</td>\n      <td>Cumings, Mrs. John Bradley (Florence Briggs Th...</td>\n      <td>female</td>\n      <td>38.0</td>\n      <td>1</td>\n      <td>0</td>\n      <td>PC 17599</td>\n      <td>71.2833</td>\n      <td>C85</td>\n      <td>C</td>\n    </tr>\n    <tr>\n      <th>2</th>\n      <td>3</td>\n      <td>1</td>\n      <td>3</td>\n      <td>Heikkinen, Miss. Laina</td>\n      <td>female</td>\n      <td>26.0</td>\n      <td>0</td>\n      <td>0</td>\n      <td>STON/O2. 3101282</td>\n      <td>7.9250</td>\n      <td>NaN</td>\n      <td>S</td>\n    </tr>\n    <tr>\n      <th>3</th>\n      <td>4</td>\n      <td>1</td>\n      <td>1</td>\n      <td>Futrelle, Mrs. Jacques Heath (Lily May Peel)</td>\n      <td>female</td>\n      <td>35.0</td>\n      <td>1</td>\n      <td>0</td>\n      <td>113803</td>\n      <td>53.1000</td>\n      <td>C123</td>\n      <td>S</td>\n    </tr>\n    <tr>\n      <th>4</th>\n      <td>5</td>\n      <td>0</td>\n      <td>3</td>\n      <td>Allen, Mr. William Henry</td>\n      <td>male</td>\n      <td>35.0</td>\n      <td>0</td>\n      <td>0</td>\n      <td>373450</td>\n      <td>8.0500</td>\n      <td>NaN</td>\n      <td>S</td>\n    </tr>\n  </tbody>\n</table>\n</div>",
                  "text/plain": "   PassengerId  Survived  Pclass  \\\n0            1         0       3   \n1            2         1       1   \n2            3         1       3   \n3            4         1       1   \n4            5         0       3   \n\n                                                Name     Sex   Age  SibSp  \\\n0                            Braund, Mr. Owen Harris    male  22.0      1   \n1  Cumings, Mrs. John Bradley (Florence Briggs Th...  female  38.0      1   \n2                             Heikkinen, Miss. Laina  female  26.0      0   \n3       Futrelle, Mrs. Jacques Heath (Lily May Peel)  female  35.0      1   \n4                           Allen, Mr. William Henry    male  35.0      0   \n\n   Parch            Ticket     Fare Cabin Embarked  \n0      0         A/5 21171   7.2500   NaN        S  \n1      0          PC 17599  71.2833   C85        C  \n2      0  STON/O2. 3101282   7.9250   NaN        S  \n3      0            113803  53.1000  C123        S  \n4      0            373450   8.0500   NaN        S  "
                },
                "execution_count": 5,
                "metadata": {},
                "output_type": "execute_result"
              }
            ],
            "source": "df.head()",
            "start_time": "2021-06-30T08:15:57.926Z"
          },
          {
            "end_time": "2021-06-30T08:44:29.723Z",
            "execution_time": "27ms",
            "outputs": [
              {
                "data": {
                  "text/html": "<div>\n<style scoped>\n    .dataframe tbody tr th:only-of-type {\n        vertical-align: middle;\n    }\n\n    .dataframe tbody tr th {\n        vertical-align: top;\n    }\n\n    .dataframe thead th {\n        text-align: right;\n    }\n</style>\n<table border=\"1\" class=\"dataframe\">\n  <thead>\n    <tr style=\"text-align: right;\">\n      <th></th>\n      <th>PassengerId</th>\n      <th>Survived</th>\n      <th>Pclass</th>\n      <th>Name</th>\n      <th>Sex</th>\n      <th>Age</th>\n      <th>SibSp</th>\n      <th>Parch</th>\n      <th>Ticket</th>\n      <th>Fare</th>\n      <th>Cabin</th>\n      <th>Embarked</th>\n    </tr>\n  </thead>\n  <tbody>\n    <tr>\n      <th>0</th>\n      <td>1</td>\n      <td>0</td>\n      <td>3</td>\n      <td>Braund, Mr. Owen Harris</td>\n      <td>male</td>\n      <td>22.0</td>\n      <td>1</td>\n      <td>0</td>\n      <td>A/5 21171</td>\n      <td>7.2500</td>\n      <td>NaN</td>\n      <td>S</td>\n    </tr>\n    <tr>\n      <th>1</th>\n      <td>2</td>\n      <td>1</td>\n      <td>1</td>\n      <td>Cumings, Mrs. John Bradley (Florence Briggs Th...</td>\n      <td>female</td>\n      <td>38.0</td>\n      <td>1</td>\n      <td>0</td>\n      <td>PC 17599</td>\n      <td>71.2833</td>\n      <td>C85</td>\n      <td>C</td>\n    </tr>\n    <tr>\n      <th>2</th>\n      <td>3</td>\n      <td>1</td>\n      <td>3</td>\n      <td>Heikkinen, Miss. Laina</td>\n      <td>female</td>\n      <td>26.0</td>\n      <td>0</td>\n      <td>0</td>\n      <td>STON/O2. 3101282</td>\n      <td>7.9250</td>\n      <td>NaN</td>\n      <td>S</td>\n    </tr>\n    <tr>\n      <th>3</th>\n      <td>4</td>\n      <td>1</td>\n      <td>1</td>\n      <td>Futrelle, Mrs. Jacques Heath (Lily May Peel)</td>\n      <td>female</td>\n      <td>35.0</td>\n      <td>1</td>\n      <td>0</td>\n      <td>113803</td>\n      <td>53.1000</td>\n      <td>C123</td>\n      <td>S</td>\n    </tr>\n    <tr>\n      <th>4</th>\n      <td>5</td>\n      <td>0</td>\n      <td>3</td>\n      <td>Allen, Mr. William Henry</td>\n      <td>male</td>\n      <td>35.0</td>\n      <td>0</td>\n      <td>0</td>\n      <td>373450</td>\n      <td>8.0500</td>\n      <td>NaN</td>\n      <td>S</td>\n    </tr>\n  </tbody>\n</table>\n</div>",
                  "text/plain": "   PassengerId  Survived  Pclass  \\\n0            1         0       3   \n1            2         1       1   \n2            3         1       3   \n3            4         1       1   \n4            5         0       3   \n\n                                                Name     Sex   Age  SibSp  \\\n0                            Braund, Mr. Owen Harris    male  22.0      1   \n1  Cumings, Mrs. John Bradley (Florence Briggs Th...  female  38.0      1   \n2                             Heikkinen, Miss. Laina  female  26.0      0   \n3       Futrelle, Mrs. Jacques Heath (Lily May Peel)  female  35.0      1   \n4                           Allen, Mr. William Henry    male  35.0      0   \n\n   Parch            Ticket     Fare Cabin Embarked  \n0      0         A/5 21171   7.2500   NaN        S  \n1      0          PC 17599  71.2833   C85        C  \n2      0  STON/O2. 3101282   7.9250   NaN        S  \n3      0            113803  53.1000  C123        S  \n4      0            373450   8.0500   NaN        S  "
                },
                "execution_count": 28,
                "metadata": {},
                "output_type": "execute_result"
              }
            ],
            "source": "df.head()",
            "start_time": "2021-06-30T08:44:29.696Z"
          },
          {
            "end_time": "2021-07-01T18:46:41.501Z",
            "execution_time": "24ms",
            "outputs": [
              {
                "data": {
                  "text/html": "<div>\n<style scoped>\n    .dataframe tbody tr th:only-of-type {\n        vertical-align: middle;\n    }\n\n    .dataframe tbody tr th {\n        vertical-align: top;\n    }\n\n    .dataframe thead th {\n        text-align: right;\n    }\n</style>\n<table border=\"1\" class=\"dataframe\">\n  <thead>\n    <tr style=\"text-align: right;\">\n      <th></th>\n      <th>age</th>\n      <th>sex</th>\n      <th>cp</th>\n      <th>trestbps</th>\n      <th>chol</th>\n      <th>fbs</th>\n      <th>restecg</th>\n      <th>thalach</th>\n      <th>exang</th>\n      <th>oldpeak</th>\n      <th>slope</th>\n      <th>ca</th>\n      <th>thal</th>\n      <th>target</th>\n    </tr>\n  </thead>\n  <tbody>\n    <tr>\n      <th>0</th>\n      <td>63</td>\n      <td>1</td>\n      <td>3</td>\n      <td>145</td>\n      <td>233</td>\n      <td>1</td>\n      <td>0</td>\n      <td>150</td>\n      <td>0</td>\n      <td>2.3</td>\n      <td>0</td>\n      <td>0</td>\n      <td>1</td>\n      <td>1</td>\n    </tr>\n    <tr>\n      <th>1</th>\n      <td>37</td>\n      <td>1</td>\n      <td>2</td>\n      <td>130</td>\n      <td>250</td>\n      <td>0</td>\n      <td>1</td>\n      <td>187</td>\n      <td>0</td>\n      <td>3.5</td>\n      <td>0</td>\n      <td>0</td>\n      <td>2</td>\n      <td>1</td>\n    </tr>\n    <tr>\n      <th>2</th>\n      <td>41</td>\n      <td>0</td>\n      <td>1</td>\n      <td>130</td>\n      <td>204</td>\n      <td>0</td>\n      <td>0</td>\n      <td>172</td>\n      <td>0</td>\n      <td>1.4</td>\n      <td>2</td>\n      <td>0</td>\n      <td>2</td>\n      <td>1</td>\n    </tr>\n    <tr>\n      <th>3</th>\n      <td>56</td>\n      <td>1</td>\n      <td>1</td>\n      <td>120</td>\n      <td>236</td>\n      <td>0</td>\n      <td>1</td>\n      <td>178</td>\n      <td>0</td>\n      <td>0.8</td>\n      <td>2</td>\n      <td>0</td>\n      <td>2</td>\n      <td>1</td>\n    </tr>\n    <tr>\n      <th>4</th>\n      <td>57</td>\n      <td>0</td>\n      <td>0</td>\n      <td>120</td>\n      <td>354</td>\n      <td>0</td>\n      <td>1</td>\n      <td>163</td>\n      <td>1</td>\n      <td>0.6</td>\n      <td>2</td>\n      <td>0</td>\n      <td>2</td>\n      <td>1</td>\n    </tr>\n  </tbody>\n</table>\n</div>",
                  "text/plain": "   age  sex  cp  trestbps  chol  fbs  restecg  thalach  exang  oldpeak  slope  \\\n0   63    1   3       145   233    1        0      150      0      2.3      0   \n1   37    1   2       130   250    0        1      187      0      3.5      0   \n2   41    0   1       130   204    0        0      172      0      1.4      2   \n3   56    1   1       120   236    0        1      178      0      0.8      2   \n4   57    0   0       120   354    0        1      163      1      0.6      2   \n\n   ca  thal  target  \n0   0     1       1  \n1   0     2       1  \n2   0     2       1  \n3   0     2       1  \n4   0     2       1  "
                },
                "execution_count": 3,
                "metadata": {},
                "output_type": "execute_result"
              }
            ],
            "source": "df.head()",
            "start_time": "2021-07-01T18:46:41.477Z"
          }
        ],
        "colab": {
          "base_uri": "https://localhost:8080/",
          "height": 206
        },
        "id": "Bxjy3trAR_4u",
        "outputId": "06e837d7-7f46-4ae6-b442-2ff94b4a4206"
      },
      "outputs": [
        {
          "output_type": "execute_result",
          "data": {
            "text/plain": [
              "   age  sex  cp  trestbps  chol  fbs  restecg  thalach  exang  oldpeak  slope  \\\n",
              "0   63    1   3       145   233    1        0      150      0      2.3      0   \n",
              "1   37    1   2       130   250    0        1      187      0      3.5      0   \n",
              "2   41    0   1       130   204    0        0      172      0      1.4      2   \n",
              "3   56    1   1       120   236    0        1      178      0      0.8      2   \n",
              "4   57    0   0       120   354    0        1      163      1      0.6      2   \n",
              "\n",
              "   ca  thal  target  \n",
              "0   0     1       1  \n",
              "1   0     2       1  \n",
              "2   0     2       1  \n",
              "3   0     2       1  \n",
              "4   0     2       1  "
            ],
            "text/html": [
              "\n",
              "  <div id=\"df-ae0efd1d-4feb-4009-a65a-7852103cd27e\">\n",
              "    <div class=\"colab-df-container\">\n",
              "      <div>\n",
              "<style scoped>\n",
              "    .dataframe tbody tr th:only-of-type {\n",
              "        vertical-align: middle;\n",
              "    }\n",
              "\n",
              "    .dataframe tbody tr th {\n",
              "        vertical-align: top;\n",
              "    }\n",
              "\n",
              "    .dataframe thead th {\n",
              "        text-align: right;\n",
              "    }\n",
              "</style>\n",
              "<table border=\"1\" class=\"dataframe\">\n",
              "  <thead>\n",
              "    <tr style=\"text-align: right;\">\n",
              "      <th></th>\n",
              "      <th>age</th>\n",
              "      <th>sex</th>\n",
              "      <th>cp</th>\n",
              "      <th>trestbps</th>\n",
              "      <th>chol</th>\n",
              "      <th>fbs</th>\n",
              "      <th>restecg</th>\n",
              "      <th>thalach</th>\n",
              "      <th>exang</th>\n",
              "      <th>oldpeak</th>\n",
              "      <th>slope</th>\n",
              "      <th>ca</th>\n",
              "      <th>thal</th>\n",
              "      <th>target</th>\n",
              "    </tr>\n",
              "  </thead>\n",
              "  <tbody>\n",
              "    <tr>\n",
              "      <th>0</th>\n",
              "      <td>63</td>\n",
              "      <td>1</td>\n",
              "      <td>3</td>\n",
              "      <td>145</td>\n",
              "      <td>233</td>\n",
              "      <td>1</td>\n",
              "      <td>0</td>\n",
              "      <td>150</td>\n",
              "      <td>0</td>\n",
              "      <td>2.3</td>\n",
              "      <td>0</td>\n",
              "      <td>0</td>\n",
              "      <td>1</td>\n",
              "      <td>1</td>\n",
              "    </tr>\n",
              "    <tr>\n",
              "      <th>1</th>\n",
              "      <td>37</td>\n",
              "      <td>1</td>\n",
              "      <td>2</td>\n",
              "      <td>130</td>\n",
              "      <td>250</td>\n",
              "      <td>0</td>\n",
              "      <td>1</td>\n",
              "      <td>187</td>\n",
              "      <td>0</td>\n",
              "      <td>3.5</td>\n",
              "      <td>0</td>\n",
              "      <td>0</td>\n",
              "      <td>2</td>\n",
              "      <td>1</td>\n",
              "    </tr>\n",
              "    <tr>\n",
              "      <th>2</th>\n",
              "      <td>41</td>\n",
              "      <td>0</td>\n",
              "      <td>1</td>\n",
              "      <td>130</td>\n",
              "      <td>204</td>\n",
              "      <td>0</td>\n",
              "      <td>0</td>\n",
              "      <td>172</td>\n",
              "      <td>0</td>\n",
              "      <td>1.4</td>\n",
              "      <td>2</td>\n",
              "      <td>0</td>\n",
              "      <td>2</td>\n",
              "      <td>1</td>\n",
              "    </tr>\n",
              "    <tr>\n",
              "      <th>3</th>\n",
              "      <td>56</td>\n",
              "      <td>1</td>\n",
              "      <td>1</td>\n",
              "      <td>120</td>\n",
              "      <td>236</td>\n",
              "      <td>0</td>\n",
              "      <td>1</td>\n",
              "      <td>178</td>\n",
              "      <td>0</td>\n",
              "      <td>0.8</td>\n",
              "      <td>2</td>\n",
              "      <td>0</td>\n",
              "      <td>2</td>\n",
              "      <td>1</td>\n",
              "    </tr>\n",
              "    <tr>\n",
              "      <th>4</th>\n",
              "      <td>57</td>\n",
              "      <td>0</td>\n",
              "      <td>0</td>\n",
              "      <td>120</td>\n",
              "      <td>354</td>\n",
              "      <td>0</td>\n",
              "      <td>1</td>\n",
              "      <td>163</td>\n",
              "      <td>1</td>\n",
              "      <td>0.6</td>\n",
              "      <td>2</td>\n",
              "      <td>0</td>\n",
              "      <td>2</td>\n",
              "      <td>1</td>\n",
              "    </tr>\n",
              "  </tbody>\n",
              "</table>\n",
              "</div>\n",
              "      <button class=\"colab-df-convert\" onclick=\"convertToInteractive('df-ae0efd1d-4feb-4009-a65a-7852103cd27e')\"\n",
              "              title=\"Convert this dataframe to an interactive table.\"\n",
              "              style=\"display:none;\">\n",
              "        \n",
              "  <svg xmlns=\"http://www.w3.org/2000/svg\" height=\"24px\"viewBox=\"0 0 24 24\"\n",
              "       width=\"24px\">\n",
              "    <path d=\"M0 0h24v24H0V0z\" fill=\"none\"/>\n",
              "    <path d=\"M18.56 5.44l.94 2.06.94-2.06 2.06-.94-2.06-.94-.94-2.06-.94 2.06-2.06.94zm-11 1L8.5 8.5l.94-2.06 2.06-.94-2.06-.94L8.5 2.5l-.94 2.06-2.06.94zm10 10l.94 2.06.94-2.06 2.06-.94-2.06-.94-.94-2.06-.94 2.06-2.06.94z\"/><path d=\"M17.41 7.96l-1.37-1.37c-.4-.4-.92-.59-1.43-.59-.52 0-1.04.2-1.43.59L10.3 9.45l-7.72 7.72c-.78.78-.78 2.05 0 2.83L4 21.41c.39.39.9.59 1.41.59.51 0 1.02-.2 1.41-.59l7.78-7.78 2.81-2.81c.8-.78.8-2.07 0-2.86zM5.41 20L4 18.59l7.72-7.72 1.47 1.35L5.41 20z\"/>\n",
              "  </svg>\n",
              "      </button>\n",
              "      \n",
              "  <style>\n",
              "    .colab-df-container {\n",
              "      display:flex;\n",
              "      flex-wrap:wrap;\n",
              "      gap: 12px;\n",
              "    }\n",
              "\n",
              "    .colab-df-convert {\n",
              "      background-color: #E8F0FE;\n",
              "      border: none;\n",
              "      border-radius: 50%;\n",
              "      cursor: pointer;\n",
              "      display: none;\n",
              "      fill: #1967D2;\n",
              "      height: 32px;\n",
              "      padding: 0 0 0 0;\n",
              "      width: 32px;\n",
              "    }\n",
              "\n",
              "    .colab-df-convert:hover {\n",
              "      background-color: #E2EBFA;\n",
              "      box-shadow: 0px 1px 2px rgba(60, 64, 67, 0.3), 0px 1px 3px 1px rgba(60, 64, 67, 0.15);\n",
              "      fill: #174EA6;\n",
              "    }\n",
              "\n",
              "    [theme=dark] .colab-df-convert {\n",
              "      background-color: #3B4455;\n",
              "      fill: #D2E3FC;\n",
              "    }\n",
              "\n",
              "    [theme=dark] .colab-df-convert:hover {\n",
              "      background-color: #434B5C;\n",
              "      box-shadow: 0px 1px 3px 1px rgba(0, 0, 0, 0.15);\n",
              "      filter: drop-shadow(0px 1px 2px rgba(0, 0, 0, 0.3));\n",
              "      fill: #FFFFFF;\n",
              "    }\n",
              "  </style>\n",
              "\n",
              "      <script>\n",
              "        const buttonEl =\n",
              "          document.querySelector('#df-ae0efd1d-4feb-4009-a65a-7852103cd27e button.colab-df-convert');\n",
              "        buttonEl.style.display =\n",
              "          google.colab.kernel.accessAllowed ? 'block' : 'none';\n",
              "\n",
              "        async function convertToInteractive(key) {\n",
              "          const element = document.querySelector('#df-ae0efd1d-4feb-4009-a65a-7852103cd27e');\n",
              "          const dataTable =\n",
              "            await google.colab.kernel.invokeFunction('convertToInteractive',\n",
              "                                                     [key], {});\n",
              "          if (!dataTable) return;\n",
              "\n",
              "          const docLinkHtml = 'Like what you see? Visit the ' +\n",
              "            '<a target=\"_blank\" href=https://colab.research.google.com/notebooks/data_table.ipynb>data table notebook</a>'\n",
              "            + ' to learn more about interactive tables.';\n",
              "          element.innerHTML = '';\n",
              "          dataTable['output_type'] = 'display_data';\n",
              "          await google.colab.output.renderOutput(dataTable, element);\n",
              "          const docLink = document.createElement('div');\n",
              "          docLink.innerHTML = docLinkHtml;\n",
              "          element.appendChild(docLink);\n",
              "        }\n",
              "      </script>\n",
              "    </div>\n",
              "  </div>\n",
              "  "
            ]
          },
          "metadata": {},
          "execution_count": 4
        }
      ],
      "source": [
        "df.head()"
      ]
    },
    {
      "cell_type": "code",
      "execution_count": 5,
      "metadata": {
        "ExecutionTime": {
          "end_time": "2021-07-01T18:46:42.841223Z",
          "start_time": "2021-07-01T18:46:42.822273Z"
        },
        "provenance": [
          {
            "end_time": "2021-06-16T03:10:21.514Z",
            "execution_time": "29ms",
            "outputs": [
              {
                "data": {
                  "text/plain": "<bound method NDFrame.sample of      PassengerId  Survived  Pclass  \\\n0              1         0       3   \n1              2         1       1   \n2              3         1       3   \n3              4         1       1   \n4              5         0       3   \n..           ...       ...     ...   \n886          887         0       2   \n887          888         1       1   \n888          889         0       3   \n889          890         1       1   \n890          891         0       3   \n\n                                                  Name     Sex   Age  SibSp  \\\n0                              Braund, Mr. Owen Harris    male  22.0      1   \n1    Cumings, Mrs. John Bradley (Florence Briggs Th...  female  38.0      1   \n2                               Heikkinen, Miss. Laina  female  26.0      0   \n3         Futrelle, Mrs. Jacques Heath (Lily May Peel)  female  35.0      1   \n4                             Allen, Mr. William Henry    male  35.0      0   \n..                                                 ...     ...   ...    ...   \n886                              Montvila, Rev. Juozas    male  27.0      0   \n887                       Graham, Miss. Margaret Edith  female  19.0      0   \n888           Johnston, Miss. Catherine Helen \"Carrie\"  female   NaN      1   \n889                              Behr, Mr. Karl Howell    male  26.0      0   \n890                                Dooley, Mr. Patrick    male  32.0      0   \n\n     Parch            Ticket     Fare Cabin Embarked  \n0        0         A/5 21171   7.2500   NaN        S  \n1        0          PC 17599  71.2833   C85        C  \n2        0  STON/O2. 3101282   7.9250   NaN        S  \n3        0            113803  53.1000  C123        S  \n4        0            373450   8.0500   NaN        S  \n..     ...               ...      ...   ...      ...  \n886      0            211536  13.0000   NaN        S  \n887      0            112053  30.0000   B42        S  \n888      2        W./C. 6607  23.4500   NaN        S  \n889      0            111369  30.0000  C148        C  \n890      0            370376   7.7500   NaN        Q  \n\n[891 rows x 12 columns]>"
                },
                "execution_count": 12,
                "metadata": {},
                "output_type": "execute_result"
              }
            ],
            "source": "df.sample",
            "start_time": "2021-06-16T03:10:21.485Z"
          },
          {
            "end_time": "2021-06-16T03:10:30.166Z",
            "execution_time": "86ms",
            "outputs": [
              {
                "data": {
                  "text/html": "<div>\n<style scoped>\n    .dataframe tbody tr th:only-of-type {\n        vertical-align: middle;\n    }\n\n    .dataframe tbody tr th {\n        vertical-align: top;\n    }\n\n    .dataframe thead th {\n        text-align: right;\n    }\n</style>\n<table border=\"1\" class=\"dataframe\">\n  <thead>\n    <tr style=\"text-align: right;\">\n      <th></th>\n      <th>PassengerId</th>\n      <th>Survived</th>\n      <th>Pclass</th>\n      <th>Name</th>\n      <th>Sex</th>\n      <th>Age</th>\n      <th>SibSp</th>\n      <th>Parch</th>\n      <th>Ticket</th>\n      <th>Fare</th>\n      <th>Cabin</th>\n      <th>Embarked</th>\n    </tr>\n  </thead>\n  <tbody>\n    <tr>\n      <th>223</th>\n      <td>224</td>\n      <td>0</td>\n      <td>3</td>\n      <td>Nenkoff, Mr. Christo</td>\n      <td>male</td>\n      <td>NaN</td>\n      <td>0</td>\n      <td>0</td>\n      <td>349234</td>\n      <td>7.8958</td>\n      <td>NaN</td>\n      <td>S</td>\n    </tr>\n  </tbody>\n</table>\n</div>",
                  "text/plain": "     PassengerId  Survived  Pclass                  Name   Sex  Age  SibSp  \\\n223          224         0       3  Nenkoff, Mr. Christo  male  NaN      0   \n\n     Parch  Ticket    Fare Cabin Embarked  \n223      0  349234  7.8958   NaN        S  "
                },
                "execution_count": 13,
                "metadata": {},
                "output_type": "execute_result"
              }
            ],
            "source": "df.sample()",
            "start_time": "2021-06-16T03:10:30.080Z"
          },
          {
            "end_time": "2021-06-16T08:27:42.873Z",
            "execution_time": "11ms",
            "outputs": [
              {
                "data": {
                  "text/html": "<div>\n<style scoped>\n    .dataframe tbody tr th:only-of-type {\n        vertical-align: middle;\n    }\n\n    .dataframe tbody tr th {\n        vertical-align: top;\n    }\n\n    .dataframe thead th {\n        text-align: right;\n    }\n</style>\n<table border=\"1\" class=\"dataframe\">\n  <thead>\n    <tr style=\"text-align: right;\">\n      <th></th>\n      <th>PassengerId</th>\n      <th>Survived</th>\n      <th>Pclass</th>\n      <th>Name</th>\n      <th>Sex</th>\n      <th>Age</th>\n      <th>SibSp</th>\n      <th>Parch</th>\n      <th>Ticket</th>\n      <th>Fare</th>\n      <th>Cabin</th>\n      <th>Embarked</th>\n    </tr>\n  </thead>\n  <tbody>\n    <tr>\n      <th>207</th>\n      <td>208</td>\n      <td>1</td>\n      <td>3</td>\n      <td>Albimona, Mr. Nassef Cassem</td>\n      <td>male</td>\n      <td>26.0</td>\n      <td>0</td>\n      <td>0</td>\n      <td>2699</td>\n      <td>18.7875</td>\n      <td>NaN</td>\n      <td>C</td>\n    </tr>\n  </tbody>\n</table>\n</div>",
                  "text/plain": "     PassengerId  Survived  Pclass                         Name   Sex   Age  \\\n207          208         1       3  Albimona, Mr. Nassef Cassem  male  26.0   \n\n     SibSp  Parch Ticket     Fare Cabin Embarked  \n207      0      0   2699  18.7875   NaN        C  "
                },
                "execution_count": 34,
                "metadata": {},
                "output_type": "execute_result"
              }
            ],
            "source": "df.sample()",
            "start_time": "2021-06-16T08:27:42.862Z"
          },
          {
            "end_time": "2021-06-30T08:16:12.067Z",
            "execution_time": "31ms",
            "outputs": [
              {
                "data": {
                  "text/html": "<div>\n<style scoped>\n    .dataframe tbody tr th:only-of-type {\n        vertical-align: middle;\n    }\n\n    .dataframe tbody tr th {\n        vertical-align: top;\n    }\n\n    .dataframe thead th {\n        text-align: right;\n    }\n</style>\n<table border=\"1\" class=\"dataframe\">\n  <thead>\n    <tr style=\"text-align: right;\">\n      <th></th>\n      <th>PassengerId</th>\n      <th>Survived</th>\n      <th>Pclass</th>\n      <th>Name</th>\n      <th>Sex</th>\n      <th>Age</th>\n      <th>SibSp</th>\n      <th>Parch</th>\n      <th>Ticket</th>\n      <th>Fare</th>\n      <th>Cabin</th>\n      <th>Embarked</th>\n    </tr>\n  </thead>\n  <tbody>\n    <tr>\n      <th>871</th>\n      <td>872</td>\n      <td>1</td>\n      <td>1</td>\n      <td>Beckwith, Mrs. Richard Leonard (Sallie Monypeny)</td>\n      <td>female</td>\n      <td>47.0</td>\n      <td>1</td>\n      <td>1</td>\n      <td>11751</td>\n      <td>52.5542</td>\n      <td>D35</td>\n      <td>S</td>\n    </tr>\n    <tr>\n      <th>185</th>\n      <td>186</td>\n      <td>0</td>\n      <td>1</td>\n      <td>Rood, Mr. Hugh Roscoe</td>\n      <td>male</td>\n      <td>NaN</td>\n      <td>0</td>\n      <td>0</td>\n      <td>113767</td>\n      <td>50.0000</td>\n      <td>A32</td>\n      <td>S</td>\n    </tr>\n    <tr>\n      <th>687</th>\n      <td>688</td>\n      <td>0</td>\n      <td>3</td>\n      <td>Dakic, Mr. Branko</td>\n      <td>male</td>\n      <td>19.0</td>\n      <td>0</td>\n      <td>0</td>\n      <td>349228</td>\n      <td>10.1708</td>\n      <td>NaN</td>\n      <td>S</td>\n    </tr>\n    <tr>\n      <th>120</th>\n      <td>121</td>\n      <td>0</td>\n      <td>2</td>\n      <td>Hickman, Mr. Stanley George</td>\n      <td>male</td>\n      <td>21.0</td>\n      <td>2</td>\n      <td>0</td>\n      <td>S.O.C. 14879</td>\n      <td>73.5000</td>\n      <td>NaN</td>\n      <td>S</td>\n    </tr>\n    <tr>\n      <th>734</th>\n      <td>735</td>\n      <td>0</td>\n      <td>2</td>\n      <td>Troupiansky, Mr. Moses Aaron</td>\n      <td>male</td>\n      <td>23.0</td>\n      <td>0</td>\n      <td>0</td>\n      <td>233639</td>\n      <td>13.0000</td>\n      <td>NaN</td>\n      <td>S</td>\n    </tr>\n    <tr>\n      <th>838</th>\n      <td>839</td>\n      <td>1</td>\n      <td>3</td>\n      <td>Chip, Mr. Chang</td>\n      <td>male</td>\n      <td>32.0</td>\n      <td>0</td>\n      <td>0</td>\n      <td>1601</td>\n      <td>56.4958</td>\n      <td>NaN</td>\n      <td>S</td>\n    </tr>\n    <tr>\n      <th>810</th>\n      <td>811</td>\n      <td>0</td>\n      <td>3</td>\n      <td>Alexander, Mr. William</td>\n      <td>male</td>\n      <td>26.0</td>\n      <td>0</td>\n      <td>0</td>\n      <td>3474</td>\n      <td>7.8875</td>\n      <td>NaN</td>\n      <td>S</td>\n    </tr>\n    <tr>\n      <th>488</th>\n      <td>489</td>\n      <td>0</td>\n      <td>3</td>\n      <td>Somerton, Mr. Francis William</td>\n      <td>male</td>\n      <td>30.0</td>\n      <td>0</td>\n      <td>0</td>\n      <td>A.5. 18509</td>\n      <td>8.0500</td>\n      <td>NaN</td>\n      <td>S</td>\n    </tr>\n  </tbody>\n</table>\n</div>",
                  "text/plain": "     PassengerId  Survived  Pclass  \\\n871          872         1       1   \n185          186         0       1   \n687          688         0       3   \n120          121         0       2   \n734          735         0       2   \n838          839         1       3   \n810          811         0       3   \n488          489         0       3   \n\n                                                 Name     Sex   Age  SibSp  \\\n871  Beckwith, Mrs. Richard Leonard (Sallie Monypeny)  female  47.0      1   \n185                             Rood, Mr. Hugh Roscoe    male   NaN      0   \n687                                 Dakic, Mr. Branko    male  19.0      0   \n120                       Hickman, Mr. Stanley George    male  21.0      2   \n734                      Troupiansky, Mr. Moses Aaron    male  23.0      0   \n838                                   Chip, Mr. Chang    male  32.0      0   \n810                            Alexander, Mr. William    male  26.0      0   \n488                     Somerton, Mr. Francis William    male  30.0      0   \n\n     Parch        Ticket     Fare Cabin Embarked  \n871      1         11751  52.5542   D35        S  \n185      0        113767  50.0000   A32        S  \n687      0        349228  10.1708   NaN        S  \n120      0  S.O.C. 14879  73.5000   NaN        S  \n734      0        233639  13.0000   NaN        S  \n838      0          1601  56.4958   NaN        S  \n810      0          3474   7.8875   NaN        S  \n488      0    A.5. 18509   8.0500   NaN        S  "
                },
                "execution_count": 6,
                "metadata": {},
                "output_type": "execute_result"
              }
            ],
            "source": "df.sample(8)",
            "start_time": "2021-06-30T08:16:12.036Z"
          },
          {
            "end_time": "2021-06-30T08:16:18.438Z",
            "execution_time": "16ms",
            "outputs": [
              {
                "data": {
                  "text/html": "<div>\n<style scoped>\n    .dataframe tbody tr th:only-of-type {\n        vertical-align: middle;\n    }\n\n    .dataframe tbody tr th {\n        vertical-align: top;\n    }\n\n    .dataframe thead th {\n        text-align: right;\n    }\n</style>\n<table border=\"1\" class=\"dataframe\">\n  <thead>\n    <tr style=\"text-align: right;\">\n      <th></th>\n      <th>PassengerId</th>\n      <th>Survived</th>\n      <th>Pclass</th>\n      <th>Name</th>\n      <th>Sex</th>\n      <th>Age</th>\n      <th>SibSp</th>\n      <th>Parch</th>\n      <th>Ticket</th>\n      <th>Fare</th>\n      <th>Cabin</th>\n      <th>Embarked</th>\n    </tr>\n  </thead>\n  <tbody>\n    <tr>\n      <th>87</th>\n      <td>88</td>\n      <td>0</td>\n      <td>3</td>\n      <td>Slocovski, Mr. Selman Francis</td>\n      <td>male</td>\n      <td>NaN</td>\n      <td>0</td>\n      <td>0</td>\n      <td>SOTON/OQ 392086</td>\n      <td>8.05</td>\n      <td>NaN</td>\n      <td>S</td>\n    </tr>\n  </tbody>\n</table>\n</div>",
                  "text/plain": "    PassengerId  Survived  Pclass                           Name   Sex  Age  \\\n87           88         0       3  Slocovski, Mr. Selman Francis  male  NaN   \n\n    SibSp  Parch           Ticket  Fare Cabin Embarked  \n87      0      0  SOTON/OQ 392086  8.05   NaN        S  "
                },
                "execution_count": 7,
                "metadata": {},
                "output_type": "execute_result"
              }
            ],
            "source": "df.sample()",
            "start_time": "2021-06-30T08:16:18.422Z"
          },
          {
            "end_time": "2021-06-30T08:44:32.931Z",
            "execution_time": "19ms",
            "outputs": [
              {
                "data": {
                  "text/html": "<div>\n<style scoped>\n    .dataframe tbody tr th:only-of-type {\n        vertical-align: middle;\n    }\n\n    .dataframe tbody tr th {\n        vertical-align: top;\n    }\n\n    .dataframe thead th {\n        text-align: right;\n    }\n</style>\n<table border=\"1\" class=\"dataframe\">\n  <thead>\n    <tr style=\"text-align: right;\">\n      <th></th>\n      <th>PassengerId</th>\n      <th>Survived</th>\n      <th>Pclass</th>\n      <th>Name</th>\n      <th>Sex</th>\n      <th>Age</th>\n      <th>SibSp</th>\n      <th>Parch</th>\n      <th>Ticket</th>\n      <th>Fare</th>\n      <th>Cabin</th>\n      <th>Embarked</th>\n    </tr>\n  </thead>\n  <tbody>\n    <tr>\n      <th>610</th>\n      <td>611</td>\n      <td>0</td>\n      <td>3</td>\n      <td>Andersson, Mrs. Anders Johan (Alfrida Konstant...</td>\n      <td>female</td>\n      <td>39.0</td>\n      <td>1</td>\n      <td>5</td>\n      <td>347082</td>\n      <td>31.275</td>\n      <td>NaN</td>\n      <td>S</td>\n    </tr>\n  </tbody>\n</table>\n</div>",
                  "text/plain": "     PassengerId  Survived  Pclass  \\\n610          611         0       3   \n\n                                                  Name     Sex   Age  SibSp  \\\n610  Andersson, Mrs. Anders Johan (Alfrida Konstant...  female  39.0      1   \n\n     Parch  Ticket    Fare Cabin Embarked  \n610      5  347082  31.275   NaN        S  "
                },
                "execution_count": 29,
                "metadata": {},
                "output_type": "execute_result"
              }
            ],
            "source": "df.sample()",
            "start_time": "2021-06-30T08:44:32.912Z"
          },
          {
            "end_time": "2021-07-01T18:46:42.841Z",
            "execution_time": "19ms",
            "outputs": [
              {
                "data": {
                  "text/html": "<div>\n<style scoped>\n    .dataframe tbody tr th:only-of-type {\n        vertical-align: middle;\n    }\n\n    .dataframe tbody tr th {\n        vertical-align: top;\n    }\n\n    .dataframe thead th {\n        text-align: right;\n    }\n</style>\n<table border=\"1\" class=\"dataframe\">\n  <thead>\n    <tr style=\"text-align: right;\">\n      <th></th>\n      <th>age</th>\n      <th>sex</th>\n      <th>cp</th>\n      <th>trestbps</th>\n      <th>chol</th>\n      <th>fbs</th>\n      <th>restecg</th>\n      <th>thalach</th>\n      <th>exang</th>\n      <th>oldpeak</th>\n      <th>slope</th>\n      <th>ca</th>\n      <th>thal</th>\n      <th>target</th>\n    </tr>\n  </thead>\n  <tbody>\n    <tr>\n      <th>118</th>\n      <td>46</td>\n      <td>0</td>\n      <td>1</td>\n      <td>105</td>\n      <td>204</td>\n      <td>0</td>\n      <td>1</td>\n      <td>172</td>\n      <td>0</td>\n      <td>0.0</td>\n      <td>2</td>\n      <td>0</td>\n      <td>2</td>\n      <td>1</td>\n    </tr>\n  </tbody>\n</table>\n</div>",
                  "text/plain": "     age  sex  cp  trestbps  chol  fbs  restecg  thalach  exang  oldpeak  \\\n118   46    0   1       105   204    0        1      172      0      0.0   \n\n     slope  ca  thal  target  \n118      2   0     2       1  "
                },
                "execution_count": 4,
                "metadata": {},
                "output_type": "execute_result"
              }
            ],
            "source": "df.sample()",
            "start_time": "2021-07-01T18:46:42.822Z"
          }
        ],
        "colab": {
          "base_uri": "https://localhost:8080/",
          "height": 206
        },
        "id": "PsrHnq3VR_4z",
        "outputId": "587ea9b3-e1a7-4cb8-b945-dfb94a2cf979"
      },
      "outputs": [
        {
          "output_type": "execute_result",
          "data": {
            "text/plain": [
              "     age  sex  cp  trestbps  chol  fbs  restecg  thalach  exang  oldpeak  \\\n",
              "17    66    0   3       150   226    0        1      114      0      2.6   \n",
              "287   57    1   1       154   232    0        0      164      0      0.0   \n",
              "230   47    1   2       108   243    0        1      152      0      0.0   \n",
              "222   65    1   3       138   282    1        0      174      0      1.4   \n",
              "73    51    1   0       140   261    0        0      186      1      0.0   \n",
              "\n",
              "     slope  ca  thal  target  \n",
              "17       0   0     2       1  \n",
              "287      2   1     2       0  \n",
              "230      2   0     2       0  \n",
              "222      1   1     2       0  \n",
              "73       2   0     2       1  "
            ],
            "text/html": [
              "\n",
              "  <div id=\"df-dc3a2ae0-a51b-4fe5-88cc-4a00eb699472\">\n",
              "    <div class=\"colab-df-container\">\n",
              "      <div>\n",
              "<style scoped>\n",
              "    .dataframe tbody tr th:only-of-type {\n",
              "        vertical-align: middle;\n",
              "    }\n",
              "\n",
              "    .dataframe tbody tr th {\n",
              "        vertical-align: top;\n",
              "    }\n",
              "\n",
              "    .dataframe thead th {\n",
              "        text-align: right;\n",
              "    }\n",
              "</style>\n",
              "<table border=\"1\" class=\"dataframe\">\n",
              "  <thead>\n",
              "    <tr style=\"text-align: right;\">\n",
              "      <th></th>\n",
              "      <th>age</th>\n",
              "      <th>sex</th>\n",
              "      <th>cp</th>\n",
              "      <th>trestbps</th>\n",
              "      <th>chol</th>\n",
              "      <th>fbs</th>\n",
              "      <th>restecg</th>\n",
              "      <th>thalach</th>\n",
              "      <th>exang</th>\n",
              "      <th>oldpeak</th>\n",
              "      <th>slope</th>\n",
              "      <th>ca</th>\n",
              "      <th>thal</th>\n",
              "      <th>target</th>\n",
              "    </tr>\n",
              "  </thead>\n",
              "  <tbody>\n",
              "    <tr>\n",
              "      <th>17</th>\n",
              "      <td>66</td>\n",
              "      <td>0</td>\n",
              "      <td>3</td>\n",
              "      <td>150</td>\n",
              "      <td>226</td>\n",
              "      <td>0</td>\n",
              "      <td>1</td>\n",
              "      <td>114</td>\n",
              "      <td>0</td>\n",
              "      <td>2.6</td>\n",
              "      <td>0</td>\n",
              "      <td>0</td>\n",
              "      <td>2</td>\n",
              "      <td>1</td>\n",
              "    </tr>\n",
              "    <tr>\n",
              "      <th>287</th>\n",
              "      <td>57</td>\n",
              "      <td>1</td>\n",
              "      <td>1</td>\n",
              "      <td>154</td>\n",
              "      <td>232</td>\n",
              "      <td>0</td>\n",
              "      <td>0</td>\n",
              "      <td>164</td>\n",
              "      <td>0</td>\n",
              "      <td>0.0</td>\n",
              "      <td>2</td>\n",
              "      <td>1</td>\n",
              "      <td>2</td>\n",
              "      <td>0</td>\n",
              "    </tr>\n",
              "    <tr>\n",
              "      <th>230</th>\n",
              "      <td>47</td>\n",
              "      <td>1</td>\n",
              "      <td>2</td>\n",
              "      <td>108</td>\n",
              "      <td>243</td>\n",
              "      <td>0</td>\n",
              "      <td>1</td>\n",
              "      <td>152</td>\n",
              "      <td>0</td>\n",
              "      <td>0.0</td>\n",
              "      <td>2</td>\n",
              "      <td>0</td>\n",
              "      <td>2</td>\n",
              "      <td>0</td>\n",
              "    </tr>\n",
              "    <tr>\n",
              "      <th>222</th>\n",
              "      <td>65</td>\n",
              "      <td>1</td>\n",
              "      <td>3</td>\n",
              "      <td>138</td>\n",
              "      <td>282</td>\n",
              "      <td>1</td>\n",
              "      <td>0</td>\n",
              "      <td>174</td>\n",
              "      <td>0</td>\n",
              "      <td>1.4</td>\n",
              "      <td>1</td>\n",
              "      <td>1</td>\n",
              "      <td>2</td>\n",
              "      <td>0</td>\n",
              "    </tr>\n",
              "    <tr>\n",
              "      <th>73</th>\n",
              "      <td>51</td>\n",
              "      <td>1</td>\n",
              "      <td>0</td>\n",
              "      <td>140</td>\n",
              "      <td>261</td>\n",
              "      <td>0</td>\n",
              "      <td>0</td>\n",
              "      <td>186</td>\n",
              "      <td>1</td>\n",
              "      <td>0.0</td>\n",
              "      <td>2</td>\n",
              "      <td>0</td>\n",
              "      <td>2</td>\n",
              "      <td>1</td>\n",
              "    </tr>\n",
              "  </tbody>\n",
              "</table>\n",
              "</div>\n",
              "      <button class=\"colab-df-convert\" onclick=\"convertToInteractive('df-dc3a2ae0-a51b-4fe5-88cc-4a00eb699472')\"\n",
              "              title=\"Convert this dataframe to an interactive table.\"\n",
              "              style=\"display:none;\">\n",
              "        \n",
              "  <svg xmlns=\"http://www.w3.org/2000/svg\" height=\"24px\"viewBox=\"0 0 24 24\"\n",
              "       width=\"24px\">\n",
              "    <path d=\"M0 0h24v24H0V0z\" fill=\"none\"/>\n",
              "    <path d=\"M18.56 5.44l.94 2.06.94-2.06 2.06-.94-2.06-.94-.94-2.06-.94 2.06-2.06.94zm-11 1L8.5 8.5l.94-2.06 2.06-.94-2.06-.94L8.5 2.5l-.94 2.06-2.06.94zm10 10l.94 2.06.94-2.06 2.06-.94-2.06-.94-.94-2.06-.94 2.06-2.06.94z\"/><path d=\"M17.41 7.96l-1.37-1.37c-.4-.4-.92-.59-1.43-.59-.52 0-1.04.2-1.43.59L10.3 9.45l-7.72 7.72c-.78.78-.78 2.05 0 2.83L4 21.41c.39.39.9.59 1.41.59.51 0 1.02-.2 1.41-.59l7.78-7.78 2.81-2.81c.8-.78.8-2.07 0-2.86zM5.41 20L4 18.59l7.72-7.72 1.47 1.35L5.41 20z\"/>\n",
              "  </svg>\n",
              "      </button>\n",
              "      \n",
              "  <style>\n",
              "    .colab-df-container {\n",
              "      display:flex;\n",
              "      flex-wrap:wrap;\n",
              "      gap: 12px;\n",
              "    }\n",
              "\n",
              "    .colab-df-convert {\n",
              "      background-color: #E8F0FE;\n",
              "      border: none;\n",
              "      border-radius: 50%;\n",
              "      cursor: pointer;\n",
              "      display: none;\n",
              "      fill: #1967D2;\n",
              "      height: 32px;\n",
              "      padding: 0 0 0 0;\n",
              "      width: 32px;\n",
              "    }\n",
              "\n",
              "    .colab-df-convert:hover {\n",
              "      background-color: #E2EBFA;\n",
              "      box-shadow: 0px 1px 2px rgba(60, 64, 67, 0.3), 0px 1px 3px 1px rgba(60, 64, 67, 0.15);\n",
              "      fill: #174EA6;\n",
              "    }\n",
              "\n",
              "    [theme=dark] .colab-df-convert {\n",
              "      background-color: #3B4455;\n",
              "      fill: #D2E3FC;\n",
              "    }\n",
              "\n",
              "    [theme=dark] .colab-df-convert:hover {\n",
              "      background-color: #434B5C;\n",
              "      box-shadow: 0px 1px 3px 1px rgba(0, 0, 0, 0.15);\n",
              "      filter: drop-shadow(0px 1px 2px rgba(0, 0, 0, 0.3));\n",
              "      fill: #FFFFFF;\n",
              "    }\n",
              "  </style>\n",
              "\n",
              "      <script>\n",
              "        const buttonEl =\n",
              "          document.querySelector('#df-dc3a2ae0-a51b-4fe5-88cc-4a00eb699472 button.colab-df-convert');\n",
              "        buttonEl.style.display =\n",
              "          google.colab.kernel.accessAllowed ? 'block' : 'none';\n",
              "\n",
              "        async function convertToInteractive(key) {\n",
              "          const element = document.querySelector('#df-dc3a2ae0-a51b-4fe5-88cc-4a00eb699472');\n",
              "          const dataTable =\n",
              "            await google.colab.kernel.invokeFunction('convertToInteractive',\n",
              "                                                     [key], {});\n",
              "          if (!dataTable) return;\n",
              "\n",
              "          const docLinkHtml = 'Like what you see? Visit the ' +\n",
              "            '<a target=\"_blank\" href=https://colab.research.google.com/notebooks/data_table.ipynb>data table notebook</a>'\n",
              "            + ' to learn more about interactive tables.';\n",
              "          element.innerHTML = '';\n",
              "          dataTable['output_type'] = 'display_data';\n",
              "          await google.colab.output.renderOutput(dataTable, element);\n",
              "          const docLink = document.createElement('div');\n",
              "          docLink.innerHTML = docLinkHtml;\n",
              "          element.appendChild(docLink);\n",
              "        }\n",
              "      </script>\n",
              "    </div>\n",
              "  </div>\n",
              "  "
            ]
          },
          "metadata": {},
          "execution_count": 5
        }
      ],
      "source": [
        "df.sample(5)"
      ]
    },
    {
      "cell_type": "code",
      "execution_count": 6,
      "metadata": {
        "ExecutionTime": {
          "end_time": "2021-07-01T18:46:55.328353Z",
          "start_time": "2021-07-01T18:46:55.279484Z"
        },
        "provenance": [
          {
            "end_time": "Unknown",
            "execution_time": "Unknown",
            "outputs": [],
            "source": "df.describe()",
            "start_time": "Unknown"
          },
          {
            "end_time": "2021-06-16T03:06:05.879Z",
            "execution_time": "132ms",
            "outputs": [
              {
                "data": {
                  "text/html": "<div>\n<style scoped>\n    .dataframe tbody tr th:only-of-type {\n        vertical-align: middle;\n    }\n\n    .dataframe tbody tr th {\n        vertical-align: top;\n    }\n\n    .dataframe thead th {\n        text-align: right;\n    }\n</style>\n<table border=\"1\" class=\"dataframe\">\n  <thead>\n    <tr style=\"text-align: right;\">\n      <th></th>\n      <th>PassengerId</th>\n      <th>Survived</th>\n      <th>Pclass</th>\n      <th>Age</th>\n      <th>SibSp</th>\n      <th>Parch</th>\n      <th>Fare</th>\n    </tr>\n  </thead>\n  <tbody>\n    <tr>\n      <th>count</th>\n      <td>891.000000</td>\n      <td>891.000000</td>\n      <td>891.000000</td>\n      <td>714.000000</td>\n      <td>891.000000</td>\n      <td>891.000000</td>\n      <td>891.000000</td>\n    </tr>\n    <tr>\n      <th>mean</th>\n      <td>446.000000</td>\n      <td>0.383838</td>\n      <td>2.308642</td>\n      <td>29.699118</td>\n      <td>0.523008</td>\n      <td>0.381594</td>\n      <td>32.204208</td>\n    </tr>\n    <tr>\n      <th>std</th>\n      <td>257.353842</td>\n      <td>0.486592</td>\n      <td>0.836071</td>\n      <td>14.526497</td>\n      <td>1.102743</td>\n      <td>0.806057</td>\n      <td>49.693429</td>\n    </tr>\n    <tr>\n      <th>min</th>\n      <td>1.000000</td>\n      <td>0.000000</td>\n      <td>1.000000</td>\n      <td>0.420000</td>\n      <td>0.000000</td>\n      <td>0.000000</td>\n      <td>0.000000</td>\n    </tr>\n    <tr>\n      <th>25%</th>\n      <td>223.500000</td>\n      <td>0.000000</td>\n      <td>2.000000</td>\n      <td>20.125000</td>\n      <td>0.000000</td>\n      <td>0.000000</td>\n      <td>7.910400</td>\n    </tr>\n    <tr>\n      <th>50%</th>\n      <td>446.000000</td>\n      <td>0.000000</td>\n      <td>3.000000</td>\n      <td>28.000000</td>\n      <td>0.000000</td>\n      <td>0.000000</td>\n      <td>14.454200</td>\n    </tr>\n    <tr>\n      <th>75%</th>\n      <td>668.500000</td>\n      <td>1.000000</td>\n      <td>3.000000</td>\n      <td>38.000000</td>\n      <td>1.000000</td>\n      <td>0.000000</td>\n      <td>31.000000</td>\n    </tr>\n    <tr>\n      <th>max</th>\n      <td>891.000000</td>\n      <td>1.000000</td>\n      <td>3.000000</td>\n      <td>80.000000</td>\n      <td>8.000000</td>\n      <td>6.000000</td>\n      <td>512.329200</td>\n    </tr>\n  </tbody>\n</table>\n</div>",
                  "text/plain": "       PassengerId    Survived      Pclass         Age       SibSp  \\\ncount   891.000000  891.000000  891.000000  714.000000  891.000000   \nmean    446.000000    0.383838    2.308642   29.699118    0.523008   \nstd     257.353842    0.486592    0.836071   14.526497    1.102743   \nmin       1.000000    0.000000    1.000000    0.420000    0.000000   \n25%     223.500000    0.000000    2.000000   20.125000    0.000000   \n50%     446.000000    0.000000    3.000000   28.000000    0.000000   \n75%     668.500000    1.000000    3.000000   38.000000    1.000000   \nmax     891.000000    1.000000    3.000000   80.000000    8.000000   \n\n            Parch        Fare  \ncount  891.000000  891.000000  \nmean     0.381594   32.204208  \nstd      0.806057   49.693429  \nmin      0.000000    0.000000  \n25%      0.000000    7.910400  \n50%      0.000000   14.454200  \n75%      0.000000   31.000000  \nmax      6.000000  512.329200  "
                },
                "execution_count": 4,
                "metadata": {},
                "output_type": "execute_result"
              }
            ],
            "source": "df.describe()",
            "start_time": "2021-06-16T03:06:05.747Z"
          },
          {
            "end_time": "2021-06-16T08:30:23.274Z",
            "execution_time": "42ms",
            "outputs": [
              {
                "data": {
                  "text/html": "<div>\n<style scoped>\n    .dataframe tbody tr th:only-of-type {\n        vertical-align: middle;\n    }\n\n    .dataframe tbody tr th {\n        vertical-align: top;\n    }\n\n    .dataframe thead th {\n        text-align: right;\n    }\n</style>\n<table border=\"1\" class=\"dataframe\">\n  <thead>\n    <tr style=\"text-align: right;\">\n      <th></th>\n      <th>PassengerId</th>\n      <th>Survived</th>\n      <th>Pclass</th>\n      <th>Age</th>\n      <th>SibSp</th>\n      <th>Parch</th>\n      <th>Fare</th>\n    </tr>\n  </thead>\n  <tbody>\n    <tr>\n      <th>count</th>\n      <td>891.000000</td>\n      <td>891.000000</td>\n      <td>891.000000</td>\n      <td>714.000000</td>\n      <td>891.000000</td>\n      <td>891.000000</td>\n      <td>891.000000</td>\n    </tr>\n    <tr>\n      <th>mean</th>\n      <td>446.000000</td>\n      <td>0.383838</td>\n      <td>2.308642</td>\n      <td>29.699118</td>\n      <td>0.523008</td>\n      <td>0.381594</td>\n      <td>32.204208</td>\n    </tr>\n    <tr>\n      <th>std</th>\n      <td>257.353842</td>\n      <td>0.486592</td>\n      <td>0.836071</td>\n      <td>14.526497</td>\n      <td>1.102743</td>\n      <td>0.806057</td>\n      <td>49.693429</td>\n    </tr>\n    <tr>\n      <th>min</th>\n      <td>1.000000</td>\n      <td>0.000000</td>\n      <td>1.000000</td>\n      <td>0.420000</td>\n      <td>0.000000</td>\n      <td>0.000000</td>\n      <td>0.000000</td>\n    </tr>\n    <tr>\n      <th>25%</th>\n      <td>223.500000</td>\n      <td>0.000000</td>\n      <td>2.000000</td>\n      <td>20.125000</td>\n      <td>0.000000</td>\n      <td>0.000000</td>\n      <td>7.910400</td>\n    </tr>\n    <tr>\n      <th>50%</th>\n      <td>446.000000</td>\n      <td>0.000000</td>\n      <td>3.000000</td>\n      <td>28.000000</td>\n      <td>0.000000</td>\n      <td>0.000000</td>\n      <td>14.454200</td>\n    </tr>\n    <tr>\n      <th>75%</th>\n      <td>668.500000</td>\n      <td>1.000000</td>\n      <td>3.000000</td>\n      <td>38.000000</td>\n      <td>1.000000</td>\n      <td>0.000000</td>\n      <td>31.000000</td>\n    </tr>\n    <tr>\n      <th>max</th>\n      <td>891.000000</td>\n      <td>1.000000</td>\n      <td>3.000000</td>\n      <td>80.000000</td>\n      <td>8.000000</td>\n      <td>6.000000</td>\n      <td>512.329200</td>\n    </tr>\n  </tbody>\n</table>\n</div>",
                  "text/plain": "       PassengerId    Survived      Pclass         Age       SibSp  \\\ncount   891.000000  891.000000  891.000000  714.000000  891.000000   \nmean    446.000000    0.383838    2.308642   29.699118    0.523008   \nstd     257.353842    0.486592    0.836071   14.526497    1.102743   \nmin       1.000000    0.000000    1.000000    0.420000    0.000000   \n25%     223.500000    0.000000    2.000000   20.125000    0.000000   \n50%     446.000000    0.000000    3.000000   28.000000    0.000000   \n75%     668.500000    1.000000    3.000000   38.000000    1.000000   \nmax     891.000000    1.000000    3.000000   80.000000    8.000000   \n\n            Parch        Fare  \ncount  891.000000  891.000000  \nmean     0.381594   32.204208  \nstd      0.806057   49.693429  \nmin      0.000000    0.000000  \n25%      0.000000    7.910400  \n50%      0.000000   14.454200  \n75%      0.000000   31.000000  \nmax      6.000000  512.329200  "
                },
                "execution_count": 37,
                "metadata": {},
                "output_type": "execute_result"
              }
            ],
            "source": "df.describe()",
            "start_time": "2021-06-16T08:30:23.232Z"
          },
          {
            "end_time": "2021-06-30T08:44:43.604Z",
            "execution_time": "43ms",
            "outputs": [
              {
                "data": {
                  "text/html": "<div>\n<style scoped>\n    .dataframe tbody tr th:only-of-type {\n        vertical-align: middle;\n    }\n\n    .dataframe tbody tr th {\n        vertical-align: top;\n    }\n\n    .dataframe thead th {\n        text-align: right;\n    }\n</style>\n<table border=\"1\" class=\"dataframe\">\n  <thead>\n    <tr style=\"text-align: right;\">\n      <th></th>\n      <th>PassengerId</th>\n      <th>Survived</th>\n      <th>Pclass</th>\n      <th>Age</th>\n      <th>SibSp</th>\n      <th>Parch</th>\n      <th>Fare</th>\n    </tr>\n  </thead>\n  <tbody>\n    <tr>\n      <th>count</th>\n      <td>891.000000</td>\n      <td>891.000000</td>\n      <td>891.000000</td>\n      <td>714.000000</td>\n      <td>891.000000</td>\n      <td>891.000000</td>\n      <td>891.000000</td>\n    </tr>\n    <tr>\n      <th>mean</th>\n      <td>446.000000</td>\n      <td>0.383838</td>\n      <td>2.308642</td>\n      <td>29.699118</td>\n      <td>0.523008</td>\n      <td>0.381594</td>\n      <td>32.204208</td>\n    </tr>\n    <tr>\n      <th>std</th>\n      <td>257.353842</td>\n      <td>0.486592</td>\n      <td>0.836071</td>\n      <td>14.526497</td>\n      <td>1.102743</td>\n      <td>0.806057</td>\n      <td>49.693429</td>\n    </tr>\n    <tr>\n      <th>min</th>\n      <td>1.000000</td>\n      <td>0.000000</td>\n      <td>1.000000</td>\n      <td>0.420000</td>\n      <td>0.000000</td>\n      <td>0.000000</td>\n      <td>0.000000</td>\n    </tr>\n    <tr>\n      <th>25%</th>\n      <td>223.500000</td>\n      <td>0.000000</td>\n      <td>2.000000</td>\n      <td>20.125000</td>\n      <td>0.000000</td>\n      <td>0.000000</td>\n      <td>7.910400</td>\n    </tr>\n    <tr>\n      <th>50%</th>\n      <td>446.000000</td>\n      <td>0.000000</td>\n      <td>3.000000</td>\n      <td>28.000000</td>\n      <td>0.000000</td>\n      <td>0.000000</td>\n      <td>14.454200</td>\n    </tr>\n    <tr>\n      <th>75%</th>\n      <td>668.500000</td>\n      <td>1.000000</td>\n      <td>3.000000</td>\n      <td>38.000000</td>\n      <td>1.000000</td>\n      <td>0.000000</td>\n      <td>31.000000</td>\n    </tr>\n    <tr>\n      <th>max</th>\n      <td>891.000000</td>\n      <td>1.000000</td>\n      <td>3.000000</td>\n      <td>80.000000</td>\n      <td>8.000000</td>\n      <td>6.000000</td>\n      <td>512.329200</td>\n    </tr>\n  </tbody>\n</table>\n</div>",
                  "text/plain": "       PassengerId    Survived      Pclass         Age       SibSp  \\\ncount   891.000000  891.000000  891.000000  714.000000  891.000000   \nmean    446.000000    0.383838    2.308642   29.699118    0.523008   \nstd     257.353842    0.486592    0.836071   14.526497    1.102743   \nmin       1.000000    0.000000    1.000000    0.420000    0.000000   \n25%     223.500000    0.000000    2.000000   20.125000    0.000000   \n50%     446.000000    0.000000    3.000000   28.000000    0.000000   \n75%     668.500000    1.000000    3.000000   38.000000    1.000000   \nmax     891.000000    1.000000    3.000000   80.000000    8.000000   \n\n            Parch        Fare  \ncount  891.000000  891.000000  \nmean     0.381594   32.204208  \nstd      0.806057   49.693429  \nmin      0.000000    0.000000  \n25%      0.000000    7.910400  \n50%      0.000000   14.454200  \n75%      0.000000   31.000000  \nmax      6.000000  512.329200  "
                },
                "execution_count": 32,
                "metadata": {},
                "output_type": "execute_result"
              }
            ],
            "source": "df.describe()",
            "start_time": "2021-06-30T08:44:43.561Z"
          },
          {
            "end_time": "2021-07-01T18:46:55.328Z",
            "execution_time": "49ms",
            "outputs": [
              {
                "data": {
                  "text/html": "<div>\n<style scoped>\n    .dataframe tbody tr th:only-of-type {\n        vertical-align: middle;\n    }\n\n    .dataframe tbody tr th {\n        vertical-align: top;\n    }\n\n    .dataframe thead th {\n        text-align: right;\n    }\n</style>\n<table border=\"1\" class=\"dataframe\">\n  <thead>\n    <tr style=\"text-align: right;\">\n      <th></th>\n      <th>age</th>\n      <th>sex</th>\n      <th>cp</th>\n      <th>trestbps</th>\n      <th>chol</th>\n      <th>fbs</th>\n      <th>restecg</th>\n      <th>thalach</th>\n      <th>exang</th>\n      <th>oldpeak</th>\n      <th>slope</th>\n      <th>ca</th>\n      <th>thal</th>\n      <th>target</th>\n    </tr>\n  </thead>\n  <tbody>\n    <tr>\n      <th>count</th>\n      <td>303.000000</td>\n      <td>303.000000</td>\n      <td>303.000000</td>\n      <td>303.000000</td>\n      <td>303.000000</td>\n      <td>303.000000</td>\n      <td>303.000000</td>\n      <td>303.000000</td>\n      <td>303.000000</td>\n      <td>303.000000</td>\n      <td>303.000000</td>\n      <td>303.000000</td>\n      <td>303.000000</td>\n      <td>303.000000</td>\n    </tr>\n    <tr>\n      <th>mean</th>\n      <td>54.366337</td>\n      <td>0.683168</td>\n      <td>0.966997</td>\n      <td>131.623762</td>\n      <td>246.264026</td>\n      <td>0.148515</td>\n      <td>0.528053</td>\n      <td>149.646865</td>\n      <td>0.326733</td>\n      <td>1.039604</td>\n      <td>1.399340</td>\n      <td>0.729373</td>\n      <td>2.313531</td>\n      <td>0.544554</td>\n    </tr>\n    <tr>\n      <th>std</th>\n      <td>9.082101</td>\n      <td>0.466011</td>\n      <td>1.032052</td>\n      <td>17.538143</td>\n      <td>51.830751</td>\n      <td>0.356198</td>\n      <td>0.525860</td>\n      <td>22.905161</td>\n      <td>0.469794</td>\n      <td>1.161075</td>\n      <td>0.616226</td>\n      <td>1.022606</td>\n      <td>0.612277</td>\n      <td>0.498835</td>\n    </tr>\n    <tr>\n      <th>min</th>\n      <td>29.000000</td>\n      <td>0.000000</td>\n      <td>0.000000</td>\n      <td>94.000000</td>\n      <td>126.000000</td>\n      <td>0.000000</td>\n      <td>0.000000</td>\n      <td>71.000000</td>\n      <td>0.000000</td>\n      <td>0.000000</td>\n      <td>0.000000</td>\n      <td>0.000000</td>\n      <td>0.000000</td>\n      <td>0.000000</td>\n    </tr>\n    <tr>\n      <th>25%</th>\n      <td>47.500000</td>\n      <td>0.000000</td>\n      <td>0.000000</td>\n      <td>120.000000</td>\n      <td>211.000000</td>\n      <td>0.000000</td>\n      <td>0.000000</td>\n      <td>133.500000</td>\n      <td>0.000000</td>\n      <td>0.000000</td>\n      <td>1.000000</td>\n      <td>0.000000</td>\n      <td>2.000000</td>\n      <td>0.000000</td>\n    </tr>\n    <tr>\n      <th>50%</th>\n      <td>55.000000</td>\n      <td>1.000000</td>\n      <td>1.000000</td>\n      <td>130.000000</td>\n      <td>240.000000</td>\n      <td>0.000000</td>\n      <td>1.000000</td>\n      <td>153.000000</td>\n      <td>0.000000</td>\n      <td>0.800000</td>\n      <td>1.000000</td>\n      <td>0.000000</td>\n      <td>2.000000</td>\n      <td>1.000000</td>\n    </tr>\n    <tr>\n      <th>75%</th>\n      <td>61.000000</td>\n      <td>1.000000</td>\n      <td>2.000000</td>\n      <td>140.000000</td>\n      <td>274.500000</td>\n      <td>0.000000</td>\n      <td>1.000000</td>\n      <td>166.000000</td>\n      <td>1.000000</td>\n      <td>1.600000</td>\n      <td>2.000000</td>\n      <td>1.000000</td>\n      <td>3.000000</td>\n      <td>1.000000</td>\n    </tr>\n    <tr>\n      <th>max</th>\n      <td>77.000000</td>\n      <td>1.000000</td>\n      <td>3.000000</td>\n      <td>200.000000</td>\n      <td>564.000000</td>\n      <td>1.000000</td>\n      <td>2.000000</td>\n      <td>202.000000</td>\n      <td>1.000000</td>\n      <td>6.200000</td>\n      <td>2.000000</td>\n      <td>4.000000</td>\n      <td>3.000000</td>\n      <td>1.000000</td>\n    </tr>\n  </tbody>\n</table>\n</div>",
                  "text/plain": "              age         sex          cp    trestbps        chol         fbs  \\\ncount  303.000000  303.000000  303.000000  303.000000  303.000000  303.000000   \nmean    54.366337    0.683168    0.966997  131.623762  246.264026    0.148515   \nstd      9.082101    0.466011    1.032052   17.538143   51.830751    0.356198   \nmin     29.000000    0.000000    0.000000   94.000000  126.000000    0.000000   \n25%     47.500000    0.000000    0.000000  120.000000  211.000000    0.000000   \n50%     55.000000    1.000000    1.000000  130.000000  240.000000    0.000000   \n75%     61.000000    1.000000    2.000000  140.000000  274.500000    0.000000   \nmax     77.000000    1.000000    3.000000  200.000000  564.000000    1.000000   \n\n          restecg     thalach       exang     oldpeak       slope          ca  \\\ncount  303.000000  303.000000  303.000000  303.000000  303.000000  303.000000   \nmean     0.528053  149.646865    0.326733    1.039604    1.399340    0.729373   \nstd      0.525860   22.905161    0.469794    1.161075    0.616226    1.022606   \nmin      0.000000   71.000000    0.000000    0.000000    0.000000    0.000000   \n25%      0.000000  133.500000    0.000000    0.000000    1.000000    0.000000   \n50%      1.000000  153.000000    0.000000    0.800000    1.000000    0.000000   \n75%      1.000000  166.000000    1.000000    1.600000    2.000000    1.000000   \nmax      2.000000  202.000000    1.000000    6.200000    2.000000    4.000000   \n\n             thal      target  \ncount  303.000000  303.000000  \nmean     2.313531    0.544554  \nstd      0.612277    0.498835  \nmin      0.000000    0.000000  \n25%      2.000000    0.000000  \n50%      2.000000    1.000000  \n75%      3.000000    1.000000  \nmax      3.000000    1.000000  "
                },
                "execution_count": 7,
                "metadata": {},
                "output_type": "execute_result"
              }
            ],
            "source": "df.describe()",
            "start_time": "2021-07-01T18:46:55.279Z"
          }
        ],
        "id": "AdEkDa9JR_4_",
        "outputId": "038d5772-0509-455e-a456-be695eb90a67",
        "colab": {
          "base_uri": "https://localhost:8080/",
          "height": 364
        }
      },
      "outputs": [
        {
          "output_type": "execute_result",
          "data": {
            "text/plain": [
              "              age         sex          cp    trestbps        chol         fbs  \\\n",
              "count  303.000000  303.000000  303.000000  303.000000  303.000000  303.000000   \n",
              "mean    54.366337    0.683168    0.966997  131.623762  246.264026    0.148515   \n",
              "std      9.082101    0.466011    1.032052   17.538143   51.830751    0.356198   \n",
              "min     29.000000    0.000000    0.000000   94.000000  126.000000    0.000000   \n",
              "25%     47.500000    0.000000    0.000000  120.000000  211.000000    0.000000   \n",
              "50%     55.000000    1.000000    1.000000  130.000000  240.000000    0.000000   \n",
              "75%     61.000000    1.000000    2.000000  140.000000  274.500000    0.000000   \n",
              "max     77.000000    1.000000    3.000000  200.000000  564.000000    1.000000   \n",
              "\n",
              "          restecg     thalach       exang     oldpeak       slope          ca  \\\n",
              "count  303.000000  303.000000  303.000000  303.000000  303.000000  303.000000   \n",
              "mean     0.528053  149.646865    0.326733    1.039604    1.399340    0.729373   \n",
              "std      0.525860   22.905161    0.469794    1.161075    0.616226    1.022606   \n",
              "min      0.000000   71.000000    0.000000    0.000000    0.000000    0.000000   \n",
              "25%      0.000000  133.500000    0.000000    0.000000    1.000000    0.000000   \n",
              "50%      1.000000  153.000000    0.000000    0.800000    1.000000    0.000000   \n",
              "75%      1.000000  166.000000    1.000000    1.600000    2.000000    1.000000   \n",
              "max      2.000000  202.000000    1.000000    6.200000    2.000000    4.000000   \n",
              "\n",
              "             thal      target  \n",
              "count  303.000000  303.000000  \n",
              "mean     2.313531    0.544554  \n",
              "std      0.612277    0.498835  \n",
              "min      0.000000    0.000000  \n",
              "25%      2.000000    0.000000  \n",
              "50%      2.000000    1.000000  \n",
              "75%      3.000000    1.000000  \n",
              "max      3.000000    1.000000  "
            ],
            "text/html": [
              "\n",
              "  <div id=\"df-c4386ac1-99ac-400a-9d30-c7e4e3a49d61\">\n",
              "    <div class=\"colab-df-container\">\n",
              "      <div>\n",
              "<style scoped>\n",
              "    .dataframe tbody tr th:only-of-type {\n",
              "        vertical-align: middle;\n",
              "    }\n",
              "\n",
              "    .dataframe tbody tr th {\n",
              "        vertical-align: top;\n",
              "    }\n",
              "\n",
              "    .dataframe thead th {\n",
              "        text-align: right;\n",
              "    }\n",
              "</style>\n",
              "<table border=\"1\" class=\"dataframe\">\n",
              "  <thead>\n",
              "    <tr style=\"text-align: right;\">\n",
              "      <th></th>\n",
              "      <th>age</th>\n",
              "      <th>sex</th>\n",
              "      <th>cp</th>\n",
              "      <th>trestbps</th>\n",
              "      <th>chol</th>\n",
              "      <th>fbs</th>\n",
              "      <th>restecg</th>\n",
              "      <th>thalach</th>\n",
              "      <th>exang</th>\n",
              "      <th>oldpeak</th>\n",
              "      <th>slope</th>\n",
              "      <th>ca</th>\n",
              "      <th>thal</th>\n",
              "      <th>target</th>\n",
              "    </tr>\n",
              "  </thead>\n",
              "  <tbody>\n",
              "    <tr>\n",
              "      <th>count</th>\n",
              "      <td>303.000000</td>\n",
              "      <td>303.000000</td>\n",
              "      <td>303.000000</td>\n",
              "      <td>303.000000</td>\n",
              "      <td>303.000000</td>\n",
              "      <td>303.000000</td>\n",
              "      <td>303.000000</td>\n",
              "      <td>303.000000</td>\n",
              "      <td>303.000000</td>\n",
              "      <td>303.000000</td>\n",
              "      <td>303.000000</td>\n",
              "      <td>303.000000</td>\n",
              "      <td>303.000000</td>\n",
              "      <td>303.000000</td>\n",
              "    </tr>\n",
              "    <tr>\n",
              "      <th>mean</th>\n",
              "      <td>54.366337</td>\n",
              "      <td>0.683168</td>\n",
              "      <td>0.966997</td>\n",
              "      <td>131.623762</td>\n",
              "      <td>246.264026</td>\n",
              "      <td>0.148515</td>\n",
              "      <td>0.528053</td>\n",
              "      <td>149.646865</td>\n",
              "      <td>0.326733</td>\n",
              "      <td>1.039604</td>\n",
              "      <td>1.399340</td>\n",
              "      <td>0.729373</td>\n",
              "      <td>2.313531</td>\n",
              "      <td>0.544554</td>\n",
              "    </tr>\n",
              "    <tr>\n",
              "      <th>std</th>\n",
              "      <td>9.082101</td>\n",
              "      <td>0.466011</td>\n",
              "      <td>1.032052</td>\n",
              "      <td>17.538143</td>\n",
              "      <td>51.830751</td>\n",
              "      <td>0.356198</td>\n",
              "      <td>0.525860</td>\n",
              "      <td>22.905161</td>\n",
              "      <td>0.469794</td>\n",
              "      <td>1.161075</td>\n",
              "      <td>0.616226</td>\n",
              "      <td>1.022606</td>\n",
              "      <td>0.612277</td>\n",
              "      <td>0.498835</td>\n",
              "    </tr>\n",
              "    <tr>\n",
              "      <th>min</th>\n",
              "      <td>29.000000</td>\n",
              "      <td>0.000000</td>\n",
              "      <td>0.000000</td>\n",
              "      <td>94.000000</td>\n",
              "      <td>126.000000</td>\n",
              "      <td>0.000000</td>\n",
              "      <td>0.000000</td>\n",
              "      <td>71.000000</td>\n",
              "      <td>0.000000</td>\n",
              "      <td>0.000000</td>\n",
              "      <td>0.000000</td>\n",
              "      <td>0.000000</td>\n",
              "      <td>0.000000</td>\n",
              "      <td>0.000000</td>\n",
              "    </tr>\n",
              "    <tr>\n",
              "      <th>25%</th>\n",
              "      <td>47.500000</td>\n",
              "      <td>0.000000</td>\n",
              "      <td>0.000000</td>\n",
              "      <td>120.000000</td>\n",
              "      <td>211.000000</td>\n",
              "      <td>0.000000</td>\n",
              "      <td>0.000000</td>\n",
              "      <td>133.500000</td>\n",
              "      <td>0.000000</td>\n",
              "      <td>0.000000</td>\n",
              "      <td>1.000000</td>\n",
              "      <td>0.000000</td>\n",
              "      <td>2.000000</td>\n",
              "      <td>0.000000</td>\n",
              "    </tr>\n",
              "    <tr>\n",
              "      <th>50%</th>\n",
              "      <td>55.000000</td>\n",
              "      <td>1.000000</td>\n",
              "      <td>1.000000</td>\n",
              "      <td>130.000000</td>\n",
              "      <td>240.000000</td>\n",
              "      <td>0.000000</td>\n",
              "      <td>1.000000</td>\n",
              "      <td>153.000000</td>\n",
              "      <td>0.000000</td>\n",
              "      <td>0.800000</td>\n",
              "      <td>1.000000</td>\n",
              "      <td>0.000000</td>\n",
              "      <td>2.000000</td>\n",
              "      <td>1.000000</td>\n",
              "    </tr>\n",
              "    <tr>\n",
              "      <th>75%</th>\n",
              "      <td>61.000000</td>\n",
              "      <td>1.000000</td>\n",
              "      <td>2.000000</td>\n",
              "      <td>140.000000</td>\n",
              "      <td>274.500000</td>\n",
              "      <td>0.000000</td>\n",
              "      <td>1.000000</td>\n",
              "      <td>166.000000</td>\n",
              "      <td>1.000000</td>\n",
              "      <td>1.600000</td>\n",
              "      <td>2.000000</td>\n",
              "      <td>1.000000</td>\n",
              "      <td>3.000000</td>\n",
              "      <td>1.000000</td>\n",
              "    </tr>\n",
              "    <tr>\n",
              "      <th>max</th>\n",
              "      <td>77.000000</td>\n",
              "      <td>1.000000</td>\n",
              "      <td>3.000000</td>\n",
              "      <td>200.000000</td>\n",
              "      <td>564.000000</td>\n",
              "      <td>1.000000</td>\n",
              "      <td>2.000000</td>\n",
              "      <td>202.000000</td>\n",
              "      <td>1.000000</td>\n",
              "      <td>6.200000</td>\n",
              "      <td>2.000000</td>\n",
              "      <td>4.000000</td>\n",
              "      <td>3.000000</td>\n",
              "      <td>1.000000</td>\n",
              "    </tr>\n",
              "  </tbody>\n",
              "</table>\n",
              "</div>\n",
              "      <button class=\"colab-df-convert\" onclick=\"convertToInteractive('df-c4386ac1-99ac-400a-9d30-c7e4e3a49d61')\"\n",
              "              title=\"Convert this dataframe to an interactive table.\"\n",
              "              style=\"display:none;\">\n",
              "        \n",
              "  <svg xmlns=\"http://www.w3.org/2000/svg\" height=\"24px\"viewBox=\"0 0 24 24\"\n",
              "       width=\"24px\">\n",
              "    <path d=\"M0 0h24v24H0V0z\" fill=\"none\"/>\n",
              "    <path d=\"M18.56 5.44l.94 2.06.94-2.06 2.06-.94-2.06-.94-.94-2.06-.94 2.06-2.06.94zm-11 1L8.5 8.5l.94-2.06 2.06-.94-2.06-.94L8.5 2.5l-.94 2.06-2.06.94zm10 10l.94 2.06.94-2.06 2.06-.94-2.06-.94-.94-2.06-.94 2.06-2.06.94z\"/><path d=\"M17.41 7.96l-1.37-1.37c-.4-.4-.92-.59-1.43-.59-.52 0-1.04.2-1.43.59L10.3 9.45l-7.72 7.72c-.78.78-.78 2.05 0 2.83L4 21.41c.39.39.9.59 1.41.59.51 0 1.02-.2 1.41-.59l7.78-7.78 2.81-2.81c.8-.78.8-2.07 0-2.86zM5.41 20L4 18.59l7.72-7.72 1.47 1.35L5.41 20z\"/>\n",
              "  </svg>\n",
              "      </button>\n",
              "      \n",
              "  <style>\n",
              "    .colab-df-container {\n",
              "      display:flex;\n",
              "      flex-wrap:wrap;\n",
              "      gap: 12px;\n",
              "    }\n",
              "\n",
              "    .colab-df-convert {\n",
              "      background-color: #E8F0FE;\n",
              "      border: none;\n",
              "      border-radius: 50%;\n",
              "      cursor: pointer;\n",
              "      display: none;\n",
              "      fill: #1967D2;\n",
              "      height: 32px;\n",
              "      padding: 0 0 0 0;\n",
              "      width: 32px;\n",
              "    }\n",
              "\n",
              "    .colab-df-convert:hover {\n",
              "      background-color: #E2EBFA;\n",
              "      box-shadow: 0px 1px 2px rgba(60, 64, 67, 0.3), 0px 1px 3px 1px rgba(60, 64, 67, 0.15);\n",
              "      fill: #174EA6;\n",
              "    }\n",
              "\n",
              "    [theme=dark] .colab-df-convert {\n",
              "      background-color: #3B4455;\n",
              "      fill: #D2E3FC;\n",
              "    }\n",
              "\n",
              "    [theme=dark] .colab-df-convert:hover {\n",
              "      background-color: #434B5C;\n",
              "      box-shadow: 0px 1px 3px 1px rgba(0, 0, 0, 0.15);\n",
              "      filter: drop-shadow(0px 1px 2px rgba(0, 0, 0, 0.3));\n",
              "      fill: #FFFFFF;\n",
              "    }\n",
              "  </style>\n",
              "\n",
              "      <script>\n",
              "        const buttonEl =\n",
              "          document.querySelector('#df-c4386ac1-99ac-400a-9d30-c7e4e3a49d61 button.colab-df-convert');\n",
              "        buttonEl.style.display =\n",
              "          google.colab.kernel.accessAllowed ? 'block' : 'none';\n",
              "\n",
              "        async function convertToInteractive(key) {\n",
              "          const element = document.querySelector('#df-c4386ac1-99ac-400a-9d30-c7e4e3a49d61');\n",
              "          const dataTable =\n",
              "            await google.colab.kernel.invokeFunction('convertToInteractive',\n",
              "                                                     [key], {});\n",
              "          if (!dataTable) return;\n",
              "\n",
              "          const docLinkHtml = 'Like what you see? Visit the ' +\n",
              "            '<a target=\"_blank\" href=https://colab.research.google.com/notebooks/data_table.ipynb>data table notebook</a>'\n",
              "            + ' to learn more about interactive tables.';\n",
              "          element.innerHTML = '';\n",
              "          dataTable['output_type'] = 'display_data';\n",
              "          await google.colab.output.renderOutput(dataTable, element);\n",
              "          const docLink = document.createElement('div');\n",
              "          docLink.innerHTML = docLinkHtml;\n",
              "          element.appendChild(docLink);\n",
              "        }\n",
              "      </script>\n",
              "    </div>\n",
              "  </div>\n",
              "  "
            ]
          },
          "metadata": {},
          "execution_count": 6
        }
      ],
      "source": [
        "df.describe()"
      ]
    },
    {
      "cell_type": "code",
      "source": [
        "df.shape"
      ],
      "metadata": {
        "colab": {
          "base_uri": "https://localhost:8080/"
        },
        "id": "vx_UgjRQlrTu",
        "outputId": "91aa4f21-2fad-450b-9fd2-44261fef0ac1"
      },
      "execution_count": 7,
      "outputs": [
        {
          "output_type": "execute_result",
          "data": {
            "text/plain": [
              "(303, 14)"
            ]
          },
          "metadata": {},
          "execution_count": 7
        }
      ]
    },
    {
      "cell_type": "code",
      "source": [
        "df.info()"
      ],
      "metadata": {
        "colab": {
          "base_uri": "https://localhost:8080/"
        },
        "id": "aPbgwBbkldzq",
        "outputId": "b7c3003b-e2a4-4b03-fcf5-b2ccc40c9e41"
      },
      "execution_count": 8,
      "outputs": [
        {
          "output_type": "stream",
          "name": "stdout",
          "text": [
            "<class 'pandas.core.frame.DataFrame'>\n",
            "RangeIndex: 303 entries, 0 to 302\n",
            "Data columns (total 14 columns):\n",
            " #   Column    Non-Null Count  Dtype  \n",
            "---  ------    --------------  -----  \n",
            " 0   age       303 non-null    int64  \n",
            " 1   sex       303 non-null    int64  \n",
            " 2   cp        303 non-null    int64  \n",
            " 3   trestbps  303 non-null    int64  \n",
            " 4   chol      303 non-null    int64  \n",
            " 5   fbs       303 non-null    int64  \n",
            " 6   restecg   303 non-null    int64  \n",
            " 7   thalach   303 non-null    int64  \n",
            " 8   exang     303 non-null    int64  \n",
            " 9   oldpeak   303 non-null    float64\n",
            " 10  slope     303 non-null    int64  \n",
            " 11  ca        303 non-null    int64  \n",
            " 12  thal      303 non-null    int64  \n",
            " 13  target    303 non-null    int64  \n",
            "dtypes: float64(1), int64(13)\n",
            "memory usage: 33.3 KB\n"
          ]
        }
      ]
    },
    {
      "cell_type": "markdown",
      "source": [
        "Note: there is no null value so we  are not droping any column"
      ],
      "metadata": {
        "id": "979S9AwymDnp"
      }
    },
    {
      "cell_type": "code",
      "source": [
        "df.isnull().sum()"
      ],
      "metadata": {
        "colab": {
          "base_uri": "https://localhost:8080/"
        },
        "id": "DNSbfrLDyF5s",
        "outputId": "04a84315-2938-4ed0-feae-00916ac398c3"
      },
      "execution_count": 11,
      "outputs": [
        {
          "output_type": "execute_result",
          "data": {
            "text/plain": [
              "age         0\n",
              "sex         0\n",
              "cp          0\n",
              "trestbps    0\n",
              "chol        0\n",
              "fbs         0\n",
              "restecg     0\n",
              "thalach     0\n",
              "exang       0\n",
              "oldpeak     0\n",
              "slope       0\n",
              "ca          0\n",
              "thal        0\n",
              "target      0\n",
              "dtype: int64"
            ]
          },
          "metadata": {},
          "execution_count": 11
        }
      ]
    },
    {
      "cell_type": "code",
      "source": [],
      "metadata": {
        "id": "i_GSrtxB1vMM"
      },
      "execution_count": null,
      "outputs": []
    },
    {
      "cell_type": "code",
      "source": [
        "# Build histogram\n",
        "plt.hist(df[\"target\"])\n",
        "plt.xlabel(\"heart disease\")\n",
        "plt.ylabel(\"number\")\n",
        "plt.title(\"number of people with heart disease\")"
      ],
      "metadata": {
        "colab": {
          "base_uri": "https://localhost:8080/",
          "height": 313
        },
        "id": "k9vEdzNv1M3i",
        "outputId": "3283682c-3c3d-4419-fe96-8a438702916b"
      },
      "execution_count": 12,
      "outputs": [
        {
          "output_type": "execute_result",
          "data": {
            "text/plain": [
              "Text(0.5, 1.0, 'number of people with heart disease')"
            ]
          },
          "metadata": {},
          "execution_count": 12
        },
        {
          "output_type": "display_data",
          "data": {
            "text/plain": [
              "<Figure size 432x288 with 1 Axes>"
            ],
            "image/png": "[encoded data removed]"
          },
          "metadata": {
            "needs_background": "light"
          }
        }
      ]
    },
    {
      "cell_type": "code",
      "execution_count": 13,
      "metadata": {
        "ExecutionTime": {
          "end_time": "2021-07-01T18:47:27.161867Z",
          "start_time": "2021-07-01T18:47:27.144913Z"
        },
        "provenance": [
          {
            "end_time": "Unknown",
            "execution_time": "Unknown",
            "outputs": [],
            "source": "df['genre'].value_counts()",
            "start_time": "Unknown"
          },
          {
            "end_time": "2021-06-16T03:07:04.509Z",
            "execution_time": "9ms",
            "outputs": [
              {
                "data": {
                  "text/plain": "0    549\n1    342\nName: Survived, dtype: int64"
                },
                "execution_count": 7,
                "metadata": {},
                "output_type": "execute_result"
              }
            ],
            "source": "df['Survived'].value_counts()",
            "start_time": "2021-06-16T03:07:04.500Z"
          },
          {
            "end_time": "2021-06-16T08:36:27.310Z",
            "execution_time": "8ms",
            "outputs": [
              {
                "data": {
                  "text/plain": "0    549\n1    342\nName: Survived, dtype: int64"
                },
                "execution_count": 39,
                "metadata": {},
                "output_type": "execute_result"
              }
            ],
            "source": "df['Survived'].value_counts()",
            "start_time": "2021-06-16T08:36:27.302Z"
          },
          {
            "end_time": "2021-06-30T08:44:52.759Z",
            "execution_time": "23ms",
            "outputs": [
              {
                "data": {
                  "text/plain": "0    549\n1    342\nName: Survived, dtype: int64"
                },
                "execution_count": 34,
                "metadata": {},
                "output_type": "execute_result"
              }
            ],
            "source": "df['Survived'].value_counts()",
            "start_time": "2021-06-30T08:44:52.736Z"
          },
          {
            "end_time": "2021-07-01T18:47:27.161Z",
            "execution_time": "17ms",
            "outputs": [
              {
                "data": {
                  "text/plain": "1    165\n0    138\nName: target, dtype: int64"
                },
                "execution_count": 9,
                "metadata": {},
                "output_type": "execute_result"
              }
            ],
            "source": "df['target'].value_counts()",
            "start_time": "2021-07-01T18:47:27.144Z"
          }
        ],
        "id": "flOsZh7YR_5E",
        "outputId": "abc853c4-8b10-4e38-fc85-3a022df4e380",
        "colab": {
          "base_uri": "https://localhost:8080/"
        }
      },
      "outputs": [
        {
          "output_type": "execute_result",
          "data": {
            "text/plain": [
              "1    165\n",
              "0    138\n",
              "Name: target, dtype: int64"
            ]
          },
          "metadata": {},
          "execution_count": 13
        }
      ],
      "source": [
        "df['target'].value_counts()"
      ]
    },
    {
      "cell_type": "code",
      "source": [
        "# Build scatter plot\n",
        "plt.scatter(y=df[\"age\"], x=df[\"target\"])\n",
        "plt.ylabel('Age of patient')\n",
        "plt.xlabel('heart disease')\n",
        "\n",
        "plt.title('Heart Disease: age vs target')"
      ],
      "metadata": {
        "colab": {
          "base_uri": "https://localhost:8080/",
          "height": 313
        },
        "id": "1S2YRe0e398s",
        "outputId": "a12d7860-c452-45fd-c9ce-a0b688d9a83c"
      },
      "execution_count": 16,
      "outputs": [
        {
          "output_type": "execute_result",
          "data": {
            "text/plain": [
              "Text(0.5, 1.0, 'Heart Disease: age vs target')"
            ]
          },
          "metadata": {},
          "execution_count": 16
        },
        {
          "output_type": "display_data",
          "data": {
            "text/plain": [
              "<Figure size 432x288 with 1 Axes>"
            ],
            "image/png": "[encoded data removed]"
          },
          "metadata": {
            "needs_background": "light"
          }
        }
      ]
    },
    {
      "cell_type": "code",
      "source": [
        "#Check for duplicate data\n",
        "duplicate = df.duplicated()\n",
        "print(duplicate.sum())\n",
        "df[duplicate]\n",
        "df.drop_duplicates(inplace=True)"
      ],
      "metadata": {
        "colab": {
          "base_uri": "https://localhost:8080/"
        },
        "id": "fQyY9ZMW3-HL",
        "outputId": "dc708dd7-eac8-4827-8d08-160c740116e8"
      },
      "execution_count": 20,
      "outputs": [
        {
          "output_type": "stream",
          "name": "stdout",
          "text": [
            "1\n"
          ]
        }
      ]
    },
    {
      "cell_type": "code",
      "source": [
        "df['target'].value_counts(normalize=True).plot.pie()\n",
        "plt.show()"
      ],
      "metadata": {
        "colab": {
          "base_uri": "https://localhost:8080/",
          "height": 248
        },
        "id": "O4ZMnZPO9ziX",
        "outputId": "8161e2ce-50ee-4daa-c645-a42db9ea4aea"
      },
      "execution_count": 27,
      "outputs": [
        {
          "output_type": "display_data",
          "data": {
            "text/plain": [
              "<Figure size 432x288 with 1 Axes>"
            ],
            "image/png": "[encoded data removed]"
          },
          "metadata": {}
        }
      ]
    },
    {
      "cell_type": "code",
      "source": [
        "df.groupby('target')['age'].median()"
      ],
      "metadata": {
        "colab": {
          "base_uri": "https://localhost:8080/"
        },
        "id": "baVRubzO-0sL",
        "outputId": "d72e65df-0b4b-4c36-99ea-0309378ec646"
      },
      "execution_count": 31,
      "outputs": [
        {
          "output_type": "execute_result",
          "data": {
            "text/plain": [
              "target\n",
              "0    58.0\n",
              "1    52.0\n",
              "Name: age, dtype: float64"
            ]
          },
          "metadata": {},
          "execution_count": 31
        }
      ]
    },
    {
      "cell_type": "code",
      "source": [
        "sns.boxplot(df.target, df.age)"
      ],
      "metadata": {
        "colab": {
          "base_uri": "https://localhost:8080/",
          "height": 353
        },
        "id": "ZFxKQQOeAbzN",
        "outputId": "94bbc15b-8a6f-4d0a-b9ed-f715bade0696"
      },
      "execution_count": 32,
      "outputs": [
        {
          "output_type": "stream",
          "name": "stderr",
          "text": [
            "/usr/local/lib/python3.7/dist-packages/seaborn/_decorators.py:43: FutureWarning: Pass the following variables as keyword args: x, y. From version 0.12, the only valid positional argument will be `data`, and passing other arguments without an explicit keyword will result in an error or misinterpretation.\n",
            "  FutureWarning\n"
          ]
        },
        {
          "output_type": "execute_result",
          "data": {
            "text/plain": [
              "<matplotlib.axes._subplots.AxesSubplot at 0x7f1015c216d0>"
            ]
          },
          "metadata": {},
          "execution_count": 32
        },
        {
          "output_type": "display_data",
          "data": {
            "text/plain": [
              "<Figure size 432x288 with 1 Axes>"
            ],
            "image/png": "[encoded data removed]"
          },
          "metadata": {
            "needs_background": "light"
          }
        }
      ]
    },
    {
      "cell_type": "code",
      "source": [],
      "metadata": {
        "id": "Eya57BA0AcaN"
      },
      "execution_count": null,
      "outputs": []
    },
    {
      "cell_type": "code",
      "source": [],
      "metadata": {
        "id": "HVQy7gGeAcqE"
      },
      "execution_count": null,
      "outputs": []
    },
    {
      "cell_type": "code",
      "source": [],
      "metadata": {
        "id": "-nBvsYnUAc46"
      },
      "execution_count": null,
      "outputs": []
    },
    {
      "cell_type": "code",
      "execution_count": 17,
      "metadata": {
        "ExecutionTime": {
          "end_time": "2021-07-01T18:47:36.386030Z",
          "start_time": "2021-07-01T18:47:35.421254Z"
        },
        "provenance": [
          {
            "end_time": "Unknown",
            "execution_time": "Unknown",
            "outputs": [],
            "source": "df.hist()",
            "start_time": "Unknown"
          },
          {
            "end_time": "2021-06-16T03:07:21.824Z",
            "execution_time": "1.47s",
            "outputs": [
              {
                "data": {
                  "text/plain": "array([[<AxesSubplot:title={'center':'PassengerId'}>,\n        <AxesSubplot:title={'center':'Survived'}>,\n        <AxesSubplot:title={'center':'Pclass'}>],\n       [<AxesSubplot:title={'center':'Age'}>,\n        <AxesSubplot:title={'center':'SibSp'}>,\n        <AxesSubplot:title={'center':'Parch'}>],\n       [<AxesSubplot:title={'center':'Fare'}>, <AxesSubplot:>,\n        <AxesSubplot:>]], dtype=object)"
                },
                "execution_count": 9,
                "metadata": {},
                "output_type": "execute_result"
              },
              {
                "data": {
                  "image/png": "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\n",
                  "text/plain": "<Figure size 432x288 with 9 Axes>"
                },
                "metadata": {
                  "needs_background": "light"
                },
                "output_type": "display_data",
                "transient": {}
              }
            ],
            "source": "df.hist()",
            "start_time": "2021-06-16T03:07:20.356Z"
          },
          {
            "end_time": "2021-06-16T08:36:37.025Z",
            "execution_time": "606ms",
            "outputs": [
              {
                "data": {
                  "text/plain": "array([[<AxesSubplot:title={'center':'PassengerId'}>,\n        <AxesSubplot:title={'center':'Survived'}>,\n        <AxesSubplot:title={'center':'Pclass'}>],\n       [<AxesSubplot:title={'center':'Age'}>,\n        <AxesSubplot:title={'center':'SibSp'}>,\n        <AxesSubplot:title={'center':'Parch'}>],\n       [<AxesSubplot:title={'center':'Fare'}>, <AxesSubplot:>,\n        <AxesSubplot:>]], dtype=object)"
                },
                "execution_count": 41,
                "metadata": {},
                "output_type": "execute_result"
              },
              {
                "data": {
                  "image/png": "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\n",
                  "text/plain": "<Figure size 432x288 with 9 Axes>"
                },
                "metadata": {
                  "needs_background": "light"
                },
                "output_type": "display_data",
                "transient": {}
              }
            ],
            "source": "df.hist()",
            "start_time": "2021-06-16T08:36:36.419Z"
          },
          {
            "end_time": "2021-06-30T08:45:01.673Z",
            "execution_time": "934ms",
            "outputs": [
              {
                "data": {
                  "text/plain": "array([[<AxesSubplot:title={'center':'PassengerId'}>,\n        <AxesSubplot:title={'center':'Survived'}>,\n        <AxesSubplot:title={'center':'Pclass'}>],\n       [<AxesSubplot:title={'center':'Age'}>,\n        <AxesSubplot:title={'center':'SibSp'}>,\n        <AxesSubplot:title={'center':'Parch'}>],\n       [<AxesSubplot:title={'center':'Fare'}>, <AxesSubplot:>,\n        <AxesSubplot:>]], dtype=object)"
                },
                "execution_count": 36,
                "metadata": {},
                "output_type": "execute_result"
              },
              {
                "data": {
                  "image/png": "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\n",
                  "text/plain": "<Figure size 432x288 with 9 Axes>"
                },
                "metadata": {
                  "needs_background": "light"
                },
                "output_type": "display_data",
                "transient": {}
              }
            ],
            "source": "df.hist()",
            "start_time": "2021-06-30T08:45:00.739Z"
          },
          {
            "end_time": "2021-07-01T18:47:36.386Z",
            "execution_time": "965ms",
            "outputs": [
              {
                "data": {
                  "text/plain": "array([[<AxesSubplot:title={'center':'age'}>,\n        <AxesSubplot:title={'center':'sex'}>,\n        <AxesSubplot:title={'center':'cp'}>,\n        <AxesSubplot:title={'center':'trestbps'}>],\n       [<AxesSubplot:title={'center':'chol'}>,\n        <AxesSubplot:title={'center':'fbs'}>,\n        <AxesSubplot:title={'center':'restecg'}>,\n        <AxesSubplot:title={'center':'thalach'}>],\n       [<AxesSubplot:title={'center':'exang'}>,\n        <AxesSubplot:title={'center':'oldpeak'}>,\n        <AxesSubplot:title={'center':'slope'}>,\n        <AxesSubplot:title={'center':'ca'}>],\n       [<AxesSubplot:title={'center':'thal'}>,\n        <AxesSubplot:title={'center':'target'}>, <AxesSubplot:>,\n        <AxesSubplot:>]], dtype=object)"
                },
                "execution_count": 11,
                "metadata": {},
                "output_type": "execute_result"
              },
              {
                "data": {
                  "image/png": "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\n",
                  "text/plain": "<Figure size 432x288 with 16 Axes>"
                },
                "metadata": {
                  "needs_background": "light"
                },
                "output_type": "display_data",
                "transient": {}
              }
            ],
            "source": "df.hist()",
            "start_time": "2021-07-01T18:47:35.421Z"
          }
        ],
        "id": "_xTldYlYR_5I",
        "outputId": "c17278aa-5664-4ccf-f3c0-345aa6a9fa90",
        "colab": {
          "base_uri": "https://localhost:8080/",
          "height": 586
        }
      },
      "outputs": [
        {
          "output_type": "execute_result",
          "data": {
            "text/plain": [
              "array([[<matplotlib.axes._subplots.AxesSubplot object at 0x7f102178bed0>,\n",
              "        <matplotlib.axes._subplots.AxesSubplot object at 0x7f102172cfd0>,\n",
              "        <matplotlib.axes._subplots.AxesSubplot object at 0x7f10216ee610>,\n",
              "        <matplotlib.axes._subplots.AxesSubplot object at 0x7f10216a5c10>],\n",
              "       [<matplotlib.axes._subplots.AxesSubplot object at 0x7f1021668250>,\n",
              "        <matplotlib.axes._subplots.AxesSubplot object at 0x7f102161f850>,\n",
              "        <matplotlib.axes._subplots.AxesSubplot object at 0x7f1021657e50>,\n",
              "        <matplotlib.axes._subplots.AxesSubplot object at 0x7f1021619490>],\n",
              "       [<matplotlib.axes._subplots.AxesSubplot object at 0x7f10215a3910>,\n",
              "        <matplotlib.axes._subplots.AxesSubplot object at 0x7f1021567050>,\n",
              "        <matplotlib.axes._subplots.AxesSubplot object at 0x7f102154c6d0>,\n",
              "        <matplotlib.axes._subplots.AxesSubplot object at 0x7f1021500cd0>],\n",
              "       [<matplotlib.axes._subplots.AxesSubplot object at 0x7f10214c5310>,\n",
              "        <matplotlib.axes._subplots.AxesSubplot object at 0x7f1021486d90>,\n",
              "        <matplotlib.axes._subplots.AxesSubplot object at 0x7f1021433f10>,\n",
              "        <matplotlib.axes._subplots.AxesSubplot object at 0x7f10229ad0d0>]],\n",
              "      dtype=object)"
            ]
          },
          "metadata": {},
          "execution_count": 17
        },
        {
          "output_type": "display_data",
          "data": {
            "text/plain": [
              "<Figure size 432x288 with 16 Axes>"
            ],
            "image/png": "[encoded data removed]"
          },
          "metadata": {
            "needs_background": "light"
          }
        }
      ],
      "source": [
        "df.hist()"
      ]
    },
    {
      "cell_type": "code",
      "execution_count": 18,
      "metadata": {
        "ExecutionTime": {
          "end_time": "2021-07-01T18:47:44.847489Z",
          "start_time": "2021-07-01T18:47:44.839994Z"
        },
        "provenance": [
          {
            "end_time": "Unknown",
            "execution_time": "Unknown",
            "outputs": [],
            "source": "df.corr()['genre']\ndf.corr()",
            "start_time": "Unknown"
          },
          {
            "end_time": "2021-06-16T03:08:14.313Z",
            "execution_time": "73ms",
            "outputs": [
              {
                "data": {
                  "text/plain": "PassengerId   -0.005007\nSurvived       1.000000\nPclass        -0.338481\nAge           -0.077221\nSibSp         -0.035322\nParch          0.081629\nFare           0.257307\nName: Survived, dtype: float64"
                },
                "execution_count": 10,
                "metadata": {},
                "output_type": "execute_result"
              }
            ],
            "source": "df.corr()['Survived']",
            "start_time": "2021-06-16T03:08:14.240Z"
          },
          {
            "end_time": "2021-06-16T08:40:46.358Z",
            "execution_time": "9ms",
            "outputs": [
              {
                "data": {
                  "text/plain": "PassengerId   -0.005007\nSurvived       1.000000\nPclass        -0.338481\nAge           -0.077221\nSibSp         -0.035322\nParch          0.081629\nFare           0.257307\nName: Survived, dtype: float64"
                },
                "execution_count": 42,
                "metadata": {},
                "output_type": "execute_result"
              }
            ],
            "source": "df.corr()['Survived']",
            "start_time": "2021-06-16T08:40:46.349Z"
          },
          {
            "end_time": "2021-06-30T08:45:04.745Z",
            "execution_time": "16ms",
            "outputs": [
              {
                "data": {
                  "text/plain": "PassengerId   -0.005007\nSurvived       1.000000\nPclass        -0.338481\nAge           -0.077221\nSibSp         -0.035322\nParch          0.081629\nFare           0.257307\nName: Survived, dtype: float64"
                },
                "execution_count": 37,
                "metadata": {},
                "output_type": "execute_result"
              }
            ],
            "source": "df.corr()['Survived']",
            "start_time": "2021-06-30T08:45:04.729Z"
          },
          {
            "end_time": "2021-07-01T18:47:44.847Z",
            "execution_time": "8ms",
            "outputs": [
              {
                "data": {
                  "text/plain": "age        -0.225439\nsex        -0.280937\ncp          0.433798\ntrestbps   -0.144931\nchol       -0.085239\nfbs        -0.028046\nrestecg     0.137230\nthalach     0.421741\nexang      -0.436757\noldpeak    -0.430696\nslope       0.345877\nca         -0.391724\nthal       -0.344029\ntarget      1.000000\nName: target, dtype: float64"
                },
                "execution_count": 12,
                "metadata": {},
                "output_type": "execute_result"
              }
            ],
            "source": "df.corr()['target']",
            "start_time": "2021-07-01T18:47:44.839Z"
          }
        ],
        "id": "fqi-XV5LR_5L",
        "outputId": "b9e5b0e5-81eb-4755-abdd-0c3efba9fc96",
        "colab": {
          "base_uri": "https://localhost:8080/"
        }
      },
      "outputs": [
        {
          "output_type": "execute_result",
          "data": {
            "text/plain": [
              "age        -0.225439\n",
              "sex        -0.280937\n",
              "cp          0.433798\n",
              "trestbps   -0.144931\n",
              "chol       -0.085239\n",
              "fbs        -0.028046\n",
              "restecg     0.137230\n",
              "thalach     0.421741\n",
              "exang      -0.436757\n",
              "oldpeak    -0.430696\n",
              "slope       0.345877\n",
              "ca         -0.391724\n",
              "thal       -0.344029\n",
              "target      1.000000\n",
              "Name: target, dtype: float64"
            ]
          },
          "metadata": {},
          "execution_count": 18
        }
      ],
      "source": [
        "df.corr()['target']"
      ]
    },
    {
      "cell_type": "code",
      "execution_count": 21,
      "metadata": {
        "ExecutionTime": {
          "end_time": "2021-07-01T18:47:49.279348Z",
          "start_time": "2021-07-01T18:47:49.260399Z"
        },
        "provenance": [
          {
            "end_time": "2021-06-16T03:08:19.695Z",
            "execution_time": "23ms",
            "outputs": [
              {
                "data": {
                  "text/html": "<div>\n<style scoped>\n    .dataframe tbody tr th:only-of-type {\n        vertical-align: middle;\n    }\n\n    .dataframe tbody tr th {\n        vertical-align: top;\n    }\n\n    .dataframe thead th {\n        text-align: right;\n    }\n</style>\n<table border=\"1\" class=\"dataframe\">\n  <thead>\n    <tr style=\"text-align: right;\">\n      <th></th>\n      <th>PassengerId</th>\n      <th>Survived</th>\n      <th>Pclass</th>\n      <th>Age</th>\n      <th>SibSp</th>\n      <th>Parch</th>\n      <th>Fare</th>\n    </tr>\n  </thead>\n  <tbody>\n    <tr>\n      <th>PassengerId</th>\n      <td>1.000000</td>\n      <td>-0.005007</td>\n      <td>-0.035144</td>\n      <td>0.036847</td>\n      <td>-0.057527</td>\n      <td>-0.001652</td>\n      <td>0.012658</td>\n    </tr>\n    <tr>\n      <th>Survived</th>\n      <td>-0.005007</td>\n      <td>1.000000</td>\n      <td>-0.338481</td>\n      <td>-0.077221</td>\n      <td>-0.035322</td>\n      <td>0.081629</td>\n      <td>0.257307</td>\n    </tr>\n    <tr>\n      <th>Pclass</th>\n      <td>-0.035144</td>\n      <td>-0.338481</td>\n      <td>1.000000</td>\n      <td>-0.369226</td>\n      <td>0.083081</td>\n      <td>0.018443</td>\n      <td>-0.549500</td>\n    </tr>\n    <tr>\n      <th>Age</th>\n      <td>0.036847</td>\n      <td>-0.077221</td>\n      <td>-0.369226</td>\n      <td>1.000000</td>\n      <td>-0.308247</td>\n      <td>-0.189119</td>\n      <td>0.096067</td>\n    </tr>\n    <tr>\n      <th>SibSp</th>\n      <td>-0.057527</td>\n      <td>-0.035322</td>\n      <td>0.083081</td>\n      <td>-0.308247</td>\n      <td>1.000000</td>\n      <td>0.414838</td>\n      <td>0.159651</td>\n    </tr>\n    <tr>\n      <th>Parch</th>\n      <td>-0.001652</td>\n      <td>0.081629</td>\n      <td>0.018443</td>\n      <td>-0.189119</td>\n      <td>0.414838</td>\n      <td>1.000000</td>\n      <td>0.216225</td>\n    </tr>\n    <tr>\n      <th>Fare</th>\n      <td>0.012658</td>\n      <td>0.257307</td>\n      <td>-0.549500</td>\n      <td>0.096067</td>\n      <td>0.159651</td>\n      <td>0.216225</td>\n      <td>1.000000</td>\n    </tr>\n  </tbody>\n</table>\n</div>",
                  "text/plain": "             PassengerId  Survived    Pclass       Age     SibSp     Parch  \\\nPassengerId     1.000000 -0.005007 -0.035144  0.036847 -0.057527 -0.001652   \nSurvived       -0.005007  1.000000 -0.338481 -0.077221 -0.035322  0.081629   \nPclass         -0.035144 -0.338481  1.000000 -0.369226  0.083081  0.018443   \nAge             0.036847 -0.077221 -0.369226  1.000000 -0.308247 -0.189119   \nSibSp          -0.057527 -0.035322  0.083081 -0.308247  1.000000  0.414838   \nParch          -0.001652  0.081629  0.018443 -0.189119  0.414838  1.000000   \nFare            0.012658  0.257307 -0.549500  0.096067  0.159651  0.216225   \n\n                 Fare  \nPassengerId  0.012658  \nSurvived     0.257307  \nPclass      -0.549500  \nAge          0.096067  \nSibSp        0.159651  \nParch        0.216225  \nFare         1.000000  "
                },
                "execution_count": 11,
                "metadata": {},
                "output_type": "execute_result"
              }
            ],
            "source": "df.corr()",
            "start_time": "2021-06-16T03:08:19.672Z"
          },
          {
            "end_time": "2021-06-16T08:40:50.010Z",
            "execution_time": "16ms",
            "outputs": [
              {
                "data": {
                  "text/html": "<div>\n<style scoped>\n    .dataframe tbody tr th:only-of-type {\n        vertical-align: middle;\n    }\n\n    .dataframe tbody tr th {\n        vertical-align: top;\n    }\n\n    .dataframe thead th {\n        text-align: right;\n    }\n</style>\n<table border=\"1\" class=\"dataframe\">\n  <thead>\n    <tr style=\"text-align: right;\">\n      <th></th>\n      <th>PassengerId</th>\n      <th>Survived</th>\n      <th>Pclass</th>\n      <th>Age</th>\n      <th>SibSp</th>\n      <th>Parch</th>\n      <th>Fare</th>\n    </tr>\n  </thead>\n  <tbody>\n    <tr>\n      <th>PassengerId</th>\n      <td>1.000000</td>\n      <td>-0.005007</td>\n      <td>-0.035144</td>\n      <td>0.036847</td>\n      <td>-0.057527</td>\n      <td>-0.001652</td>\n      <td>0.012658</td>\n    </tr>\n    <tr>\n      <th>Survived</th>\n      <td>-0.005007</td>\n      <td>1.000000</td>\n      <td>-0.338481</td>\n      <td>-0.077221</td>\n      <td>-0.035322</td>\n      <td>0.081629</td>\n      <td>0.257307</td>\n    </tr>\n    <tr>\n      <th>Pclass</th>\n      <td>-0.035144</td>\n      <td>-0.338481</td>\n      <td>1.000000</td>\n      <td>-0.369226</td>\n      <td>0.083081</td>\n      <td>0.018443</td>\n      <td>-0.549500</td>\n    </tr>\n    <tr>\n      <th>Age</th>\n      <td>0.036847</td>\n      <td>-0.077221</td>\n      <td>-0.369226</td>\n      <td>1.000000</td>\n      <td>-0.308247</td>\n      <td>-0.189119</td>\n      <td>0.096067</td>\n    </tr>\n    <tr>\n      <th>SibSp</th>\n      <td>-0.057527</td>\n      <td>-0.035322</td>\n      <td>0.083081</td>\n      <td>-0.308247</td>\n      <td>1.000000</td>\n      <td>0.414838</td>\n      <td>0.159651</td>\n    </tr>\n    <tr>\n      <th>Parch</th>\n      <td>-0.001652</td>\n      <td>0.081629</td>\n      <td>0.018443</td>\n      <td>-0.189119</td>\n      <td>0.414838</td>\n      <td>1.000000</td>\n      <td>0.216225</td>\n    </tr>\n    <tr>\n      <th>Fare</th>\n      <td>0.012658</td>\n      <td>0.257307</td>\n      <td>-0.549500</td>\n      <td>0.096067</td>\n      <td>0.159651</td>\n      <td>0.216225</td>\n      <td>1.000000</td>\n    </tr>\n  </tbody>\n</table>\n</div>",
                  "text/plain": "             PassengerId  Survived    Pclass       Age     SibSp     Parch  \\\nPassengerId     1.000000 -0.005007 -0.035144  0.036847 -0.057527 -0.001652   \nSurvived       -0.005007  1.000000 -0.338481 -0.077221 -0.035322  0.081629   \nPclass         -0.035144 -0.338481  1.000000 -0.369226  0.083081  0.018443   \nAge             0.036847 -0.077221 -0.369226  1.000000 -0.308247 -0.189119   \nSibSp          -0.057527 -0.035322  0.083081 -0.308247  1.000000  0.414838   \nParch          -0.001652  0.081629  0.018443 -0.189119  0.414838  1.000000   \nFare            0.012658  0.257307 -0.549500  0.096067  0.159651  0.216225   \n\n                 Fare  \nPassengerId  0.012658  \nSurvived     0.257307  \nPclass      -0.549500  \nAge          0.096067  \nSibSp        0.159651  \nParch        0.216225  \nFare         1.000000  "
                },
                "execution_count": 43,
                "metadata": {},
                "output_type": "execute_result"
              }
            ],
            "source": "df.corr()",
            "start_time": "2021-06-16T08:40:49.994Z"
          },
          {
            "end_time": "2021-06-30T08:45:07.606Z",
            "execution_time": "26ms",
            "outputs": [
              {
                "data": {
                  "text/html": "<div>\n<style scoped>\n    .dataframe tbody tr th:only-of-type {\n        vertical-align: middle;\n    }\n\n    .dataframe tbody tr th {\n        vertical-align: top;\n    }\n\n    .dataframe thead th {\n        text-align: right;\n    }\n</style>\n<table border=\"1\" class=\"dataframe\">\n  <thead>\n    <tr style=\"text-align: right;\">\n      <th></th>\n      <th>PassengerId</th>\n      <th>Survived</th>\n      <th>Pclass</th>\n      <th>Age</th>\n      <th>SibSp</th>\n      <th>Parch</th>\n      <th>Fare</th>\n    </tr>\n  </thead>\n  <tbody>\n    <tr>\n      <th>PassengerId</th>\n      <td>1.000000</td>\n      <td>-0.005007</td>\n      <td>-0.035144</td>\n      <td>0.036847</td>\n      <td>-0.057527</td>\n      <td>-0.001652</td>\n      <td>0.012658</td>\n    </tr>\n    <tr>\n      <th>Survived</th>\n      <td>-0.005007</td>\n      <td>1.000000</td>\n      <td>-0.338481</td>\n      <td>-0.077221</td>\n      <td>-0.035322</td>\n      <td>0.081629</td>\n      <td>0.257307</td>\n    </tr>\n    <tr>\n      <th>Pclass</th>\n      <td>-0.035144</td>\n      <td>-0.338481</td>\n      <td>1.000000</td>\n      <td>-0.369226</td>\n      <td>0.083081</td>\n      <td>0.018443</td>\n      <td>-0.549500</td>\n    </tr>\n    <tr>\n      <th>Age</th>\n      <td>0.036847</td>\n      <td>-0.077221</td>\n      <td>-0.369226</td>\n      <td>1.000000</td>\n      <td>-0.308247</td>\n      <td>-0.189119</td>\n      <td>0.096067</td>\n    </tr>\n    <tr>\n      <th>SibSp</th>\n      <td>-0.057527</td>\n      <td>-0.035322</td>\n      <td>0.083081</td>\n      <td>-0.308247</td>\n      <td>1.000000</td>\n      <td>0.414838</td>\n      <td>0.159651</td>\n    </tr>\n    <tr>\n      <th>Parch</th>\n      <td>-0.001652</td>\n      <td>0.081629</td>\n      <td>0.018443</td>\n      <td>-0.189119</td>\n      <td>0.414838</td>\n      <td>1.000000</td>\n      <td>0.216225</td>\n    </tr>\n    <tr>\n      <th>Fare</th>\n      <td>0.012658</td>\n      <td>0.257307</td>\n      <td>-0.549500</td>\n      <td>0.096067</td>\n      <td>0.159651</td>\n      <td>0.216225</td>\n      <td>1.000000</td>\n    </tr>\n  </tbody>\n</table>\n</div>",
                  "text/plain": "             PassengerId  Survived    Pclass       Age     SibSp     Parch  \\\nPassengerId     1.000000 -0.005007 -0.035144  0.036847 -0.057527 -0.001652   \nSurvived       -0.005007  1.000000 -0.338481 -0.077221 -0.035322  0.081629   \nPclass         -0.035144 -0.338481  1.000000 -0.369226  0.083081  0.018443   \nAge             0.036847 -0.077221 -0.369226  1.000000 -0.308247 -0.189119   \nSibSp          -0.057527 -0.035322  0.083081 -0.308247  1.000000  0.414838   \nParch          -0.001652  0.081629  0.018443 -0.189119  0.414838  1.000000   \nFare            0.012658  0.257307 -0.549500  0.096067  0.159651  0.216225   \n\n                 Fare  \nPassengerId  0.012658  \nSurvived     0.257307  \nPclass      -0.549500  \nAge          0.096067  \nSibSp        0.159651  \nParch        0.216225  \nFare         1.000000  "
                },
                "execution_count": 38,
                "metadata": {},
                "output_type": "execute_result"
              }
            ],
            "source": "df.corr()",
            "start_time": "2021-06-30T08:45:07.580Z"
          },
          {
            "end_time": "2021-07-01T18:47:49.279Z",
            "execution_time": "19ms",
            "outputs": [
              {
                "data": {
                  "text/html": "<div>\n<style scoped>\n    .dataframe tbody tr th:only-of-type {\n        vertical-align: middle;\n    }\n\n    .dataframe tbody tr th {\n        vertical-align: top;\n    }\n\n    .dataframe thead th {\n        text-align: right;\n    }\n</style>\n<table border=\"1\" class=\"dataframe\">\n  <thead>\n    <tr style=\"text-align: right;\">\n      <th></th>\n      <th>age</th>\n      <th>sex</th>\n      <th>cp</th>\n      <th>trestbps</th>\n      <th>chol</th>\n      <th>fbs</th>\n      <th>restecg</th>\n      <th>thalach</th>\n      <th>exang</th>\n      <th>oldpeak</th>\n      <th>slope</th>\n      <th>ca</th>\n      <th>thal</th>\n      <th>target</th>\n    </tr>\n  </thead>\n  <tbody>\n    <tr>\n      <th>age</th>\n      <td>1.000000</td>\n      <td>-0.098447</td>\n      <td>-0.068653</td>\n      <td>0.279351</td>\n      <td>0.213678</td>\n      <td>0.121308</td>\n      <td>-0.116211</td>\n      <td>-0.398522</td>\n      <td>0.096801</td>\n      <td>0.210013</td>\n      <td>-0.168814</td>\n      <td>0.276326</td>\n      <td>0.068001</td>\n      <td>-0.225439</td>\n    </tr>\n    <tr>\n      <th>sex</th>\n      <td>-0.098447</td>\n      <td>1.000000</td>\n      <td>-0.049353</td>\n      <td>-0.056769</td>\n      <td>-0.197912</td>\n      <td>0.045032</td>\n      <td>-0.058196</td>\n      <td>-0.044020</td>\n      <td>0.141664</td>\n      <td>0.096093</td>\n      <td>-0.030711</td>\n      <td>0.118261</td>\n      <td>0.210041</td>\n      <td>-0.280937</td>\n    </tr>\n    <tr>\n      <th>cp</th>\n      <td>-0.068653</td>\n      <td>-0.049353</td>\n      <td>1.000000</td>\n      <td>0.047608</td>\n      <td>-0.076904</td>\n      <td>0.094444</td>\n      <td>0.044421</td>\n      <td>0.295762</td>\n      <td>-0.394280</td>\n      <td>-0.149230</td>\n      <td>0.119717</td>\n      <td>-0.181053</td>\n      <td>-0.161736</td>\n      <td>0.433798</td>\n    </tr>\n    <tr>\n      <th>trestbps</th>\n      <td>0.279351</td>\n      <td>-0.056769</td>\n      <td>0.047608</td>\n      <td>1.000000</td>\n      <td>0.123174</td>\n      <td>0.177531</td>\n      <td>-0.114103</td>\n      <td>-0.046698</td>\n      <td>0.067616</td>\n      <td>0.193216</td>\n      <td>-0.121475</td>\n      <td>0.101389</td>\n      <td>0.062210</td>\n      <td>-0.144931</td>\n    </tr>\n    <tr>\n      <th>chol</th>\n      <td>0.213678</td>\n      <td>-0.197912</td>\n      <td>-0.076904</td>\n      <td>0.123174</td>\n      <td>1.000000</td>\n      <td>0.013294</td>\n      <td>-0.151040</td>\n      <td>-0.009940</td>\n      <td>0.067023</td>\n      <td>0.053952</td>\n      <td>-0.004038</td>\n      <td>0.070511</td>\n      <td>0.098803</td>\n      <td>-0.085239</td>\n    </tr>\n    <tr>\n      <th>fbs</th>\n      <td>0.121308</td>\n      <td>0.045032</td>\n      <td>0.094444</td>\n      <td>0.177531</td>\n      <td>0.013294</td>\n      <td>1.000000</td>\n      <td>-0.084189</td>\n      <td>-0.008567</td>\n      <td>0.025665</td>\n      <td>0.005747</td>\n      <td>-0.059894</td>\n      <td>0.137979</td>\n      <td>-0.032019</td>\n      <td>-0.028046</td>\n    </tr>\n    <tr>\n      <th>restecg</th>\n      <td>-0.116211</td>\n      <td>-0.058196</td>\n      <td>0.044421</td>\n      <td>-0.114103</td>\n      <td>-0.151040</td>\n      <td>-0.084189</td>\n      <td>1.000000</td>\n      <td>0.044123</td>\n      <td>-0.070733</td>\n      <td>-0.058770</td>\n      <td>0.093045</td>\n      <td>-0.072042</td>\n      <td>-0.011981</td>\n      <td>0.137230</td>\n    </tr>\n    <tr>\n      <th>thalach</th>\n      <td>-0.398522</td>\n      <td>-0.044020</td>\n      <td>0.295762</td>\n      <td>-0.046698</td>\n      <td>-0.009940</td>\n      <td>-0.008567</td>\n      <td>0.044123</td>\n      <td>1.000000</td>\n      <td>-0.378812</td>\n      <td>-0.344187</td>\n      <td>0.386784</td>\n      <td>-0.213177</td>\n      <td>-0.096439</td>\n      <td>0.421741</td>\n    </tr>\n    <tr>\n      <th>exang</th>\n      <td>0.096801</td>\n      <td>0.141664</td>\n      <td>-0.394280</td>\n      <td>0.067616</td>\n      <td>0.067023</td>\n      <td>0.025665</td>\n      <td>-0.070733</td>\n      <td>-0.378812</td>\n      <td>1.000000</td>\n      <td>0.288223</td>\n      <td>-0.257748</td>\n      <td>0.115739</td>\n      <td>0.206754</td>\n      <td>-0.436757</td>\n    </tr>\n    <tr>\n      <th>oldpeak</th>\n      <td>0.210013</td>\n      <td>0.096093</td>\n      <td>-0.149230</td>\n      <td>0.193216</td>\n      <td>0.053952</td>\n      <td>0.005747</td>\n      <td>-0.058770</td>\n      <td>-0.344187</td>\n      <td>0.288223</td>\n      <td>1.000000</td>\n      <td>-0.577537</td>\n      <td>0.222682</td>\n      <td>0.210244</td>\n      <td>-0.430696</td>\n    </tr>\n    <tr>\n      <th>slope</th>\n      <td>-0.168814</td>\n      <td>-0.030711</td>\n      <td>0.119717</td>\n      <td>-0.121475</td>\n      <td>-0.004038</td>\n      <td>-0.059894</td>\n      <td>0.093045</td>\n      <td>0.386784</td>\n      <td>-0.257748</td>\n      <td>-0.577537</td>\n      <td>1.000000</td>\n      <td>-0.080155</td>\n      <td>-0.104764</td>\n      <td>0.345877</td>\n    </tr>\n    <tr>\n      <th>ca</th>\n      <td>0.276326</td>\n      <td>0.118261</td>\n      <td>-0.181053</td>\n      <td>0.101389</td>\n      <td>0.070511</td>\n      <td>0.137979</td>\n      <td>-0.072042</td>\n      <td>-0.213177</td>\n      <td>0.115739</td>\n      <td>0.222682</td>\n      <td>-0.080155</td>\n      <td>1.000000</td>\n      <td>0.151832</td>\n      <td>-0.391724</td>\n    </tr>\n    <tr>\n      <th>thal</th>\n      <td>0.068001</td>\n      <td>0.210041</td>\n      <td>-0.161736</td>\n      <td>0.062210</td>\n      <td>0.098803</td>\n      <td>-0.032019</td>\n      <td>-0.011981</td>\n      <td>-0.096439</td>\n      <td>0.206754</td>\n      <td>0.210244</td>\n      <td>-0.104764</td>\n      <td>0.151832</td>\n      <td>1.000000</td>\n      <td>-0.344029</td>\n    </tr>\n    <tr>\n      <th>target</th>\n      <td>-0.225439</td>\n      <td>-0.280937</td>\n      <td>0.433798</td>\n      <td>-0.144931</td>\n      <td>-0.085239</td>\n      <td>-0.028046</td>\n      <td>0.137230</td>\n      <td>0.421741</td>\n      <td>-0.436757</td>\n      <td>-0.430696</td>\n      <td>0.345877</td>\n      <td>-0.391724</td>\n      <td>-0.344029</td>\n      <td>1.000000</td>\n    </tr>\n  </tbody>\n</table>\n</div>",
                  "text/plain": "               age       sex        cp  trestbps      chol       fbs  \\\nage       1.000000 -0.098447 -0.068653  0.279351  0.213678  0.121308   \nsex      -0.098447  1.000000 -0.049353 -0.056769 -0.197912  0.045032   \ncp       -0.068653 -0.049353  1.000000  0.047608 -0.076904  0.094444   \ntrestbps  0.279351 -0.056769  0.047608  1.000000  0.123174  0.177531   \nchol      0.213678 -0.197912 -0.076904  0.123174  1.000000  0.013294   \nfbs       0.121308  0.045032  0.094444  0.177531  0.013294  1.000000   \nrestecg  -0.116211 -0.058196  0.044421 -0.114103 -0.151040 -0.084189   \nthalach  -0.398522 -0.044020  0.295762 -0.046698 -0.009940 -0.008567   \nexang     0.096801  0.141664 -0.394280  0.067616  0.067023  0.025665   \noldpeak   0.210013  0.096093 -0.149230  0.193216  0.053952  0.005747   \nslope    -0.168814 -0.030711  0.119717 -0.121475 -0.004038 -0.059894   \nca        0.276326  0.118261 -0.181053  0.101389  0.070511  0.137979   \nthal      0.068001  0.210041 -0.161736  0.062210  0.098803 -0.032019   \ntarget   -0.225439 -0.280937  0.433798 -0.144931 -0.085239 -0.028046   \n\n           restecg   thalach     exang   oldpeak     slope        ca  \\\nage      -0.116211 -0.398522  0.096801  0.210013 -0.168814  0.276326   \nsex      -0.058196 -0.044020  0.141664  0.096093 -0.030711  0.118261   \ncp        0.044421  0.295762 -0.394280 -0.149230  0.119717 -0.181053   \ntrestbps -0.114103 -0.046698  0.067616  0.193216 -0.121475  0.101389   \nchol     -0.151040 -0.009940  0.067023  0.053952 -0.004038  0.070511   \nfbs      -0.084189 -0.008567  0.025665  0.005747 -0.059894  0.137979   \nrestecg   1.000000  0.044123 -0.070733 -0.058770  0.093045 -0.072042   \nthalach   0.044123  1.000000 -0.378812 -0.344187  0.386784 -0.213177   \nexang    -0.070733 -0.378812  1.000000  0.288223 -0.257748  0.115739   \noldpeak  -0.058770 -0.344187  0.288223  1.000000 -0.577537  0.222682   \nslope     0.093045  0.386784 -0.257748 -0.577537  1.000000 -0.080155   \nca       -0.072042 -0.213177  0.115739  0.222682 -0.080155  1.000000   \nthal     -0.011981 -0.096439  0.206754  0.210244 -0.104764  0.151832   \ntarget    0.137230  0.421741 -0.436757 -0.430696  0.345877 -0.391724   \n\n              thal    target  \nage       0.068001 -0.225439  \nsex       0.210041 -0.280937  \ncp       -0.161736  0.433798  \ntrestbps  0.062210 -0.144931  \nchol      0.098803 -0.085239  \nfbs      -0.032019 -0.028046  \nrestecg  -0.011981  0.137230  \nthalach  -0.096439  0.421741  \nexang     0.206754 -0.436757  \noldpeak   0.210244 -0.430696  \nslope    -0.104764  0.345877  \nca        0.151832 -0.391724  \nthal      1.000000 -0.344029  \ntarget   -0.344029  1.000000  "
                },
                "execution_count": 13,
                "metadata": {},
                "output_type": "execute_result"
              }
            ],
            "source": "df.corr()",
            "start_time": "2021-07-01T18:47:49.260Z"
          }
        ],
        "id": "U9ptq6_pR_5O",
        "outputId": "b83aef87-f150-4180-cba0-87f41a4c5f71",
        "colab": {
          "base_uri": "https://localhost:8080/",
          "height": 552
        }
      },
      "outputs": [
        {
          "output_type": "execute_result",
          "data": {
            "text/plain": [
              "               age       sex        cp  trestbps      chol       fbs  \\\n",
              "age       1.000000 -0.094962 -0.063107  0.283121  0.207216  0.119492   \n",
              "sex      -0.094962  1.000000 -0.051740 -0.057647 -0.195571  0.046022   \n",
              "cp       -0.063107 -0.051740  1.000000  0.046486 -0.072682  0.096018   \n",
              "trestbps  0.283121 -0.057647  0.046486  1.000000  0.125256  0.178125   \n",
              "chol      0.207216 -0.195571 -0.072682  0.125256  1.000000  0.011428   \n",
              "fbs       0.119492  0.046022  0.096018  0.178125  0.011428  1.000000   \n",
              "restecg  -0.111590 -0.060351  0.041561 -0.115367 -0.147602 -0.083081   \n",
              "thalach  -0.395235 -0.046439  0.293367 -0.048023 -0.005308 -0.007169   \n",
              "exang     0.093216  0.143460 -0.392937  0.068526  0.064099  0.024729   \n",
              "oldpeak   0.206040  0.098322 -0.146692  0.194600  0.050086  0.004514   \n",
              "slope    -0.164124 -0.032990  0.116854 -0.122873  0.000417 -0.058654   \n",
              "ca        0.302261  0.113060 -0.195356  0.099248  0.086878  0.144935   \n",
              "thal      0.065317  0.211452 -0.160370  0.062870  0.096810 -0.032752   \n",
              "target   -0.221476 -0.283609  0.432080 -0.146269 -0.081437 -0.026826   \n",
              "\n",
              "           restecg   thalach     exang   oldpeak     slope        ca  \\\n",
              "age      -0.111590 -0.395235  0.093216  0.206040 -0.164124  0.302261   \n",
              "sex      -0.060351 -0.046439  0.143460  0.098322 -0.032990  0.113060   \n",
              "cp        0.041561  0.293367 -0.392937 -0.146692  0.116854 -0.195356   \n",
              "trestbps -0.115367 -0.048023  0.068526  0.194600 -0.122873  0.099248   \n",
              "chol     -0.147602 -0.005308  0.064099  0.050086  0.000417  0.086878   \n",
              "fbs      -0.083081 -0.007169  0.024729  0.004514 -0.058654  0.144935   \n",
              "restecg   1.000000  0.041210 -0.068807 -0.056251  0.090402 -0.083112   \n",
              "thalach   0.041210  1.000000 -0.377411 -0.342201  0.384754 -0.228311   \n",
              "exang    -0.068807 -0.377411  1.000000  0.286766 -0.256106  0.125377   \n",
              "oldpeak  -0.056251 -0.342201  0.286766  1.000000 -0.576314  0.236560   \n",
              "slope     0.090402  0.384754 -0.256106 -0.576314  1.000000 -0.092236   \n",
              "ca       -0.083112 -0.228311  0.125377  0.236560 -0.092236  1.000000   \n",
              "thal     -0.010473 -0.094910  0.205826  0.209090 -0.103314  0.160085   \n",
              "target    0.134874  0.419955 -0.435601 -0.429146  0.343940 -0.408992   \n",
              "\n",
              "              thal    target  \n",
              "age       0.065317 -0.221476  \n",
              "sex       0.211452 -0.283609  \n",
              "cp       -0.160370  0.432080  \n",
              "trestbps  0.062870 -0.146269  \n",
              "chol      0.096810 -0.081437  \n",
              "fbs      -0.032752 -0.026826  \n",
              "restecg  -0.010473  0.134874  \n",
              "thalach  -0.094910  0.419955  \n",
              "exang     0.205826 -0.435601  \n",
              "oldpeak   0.209090 -0.429146  \n",
              "slope    -0.103314  0.343940  \n",
              "ca        0.160085 -0.408992  \n",
              "thal      1.000000 -0.343101  \n",
              "target   -0.343101  1.000000  "
            ],
            "text/html": [
              "\n",
              "  <div id=\"df-ab067178-67b4-493d-94ea-a3543fd6c122\">\n",
              "    <div class=\"colab-df-container\">\n",
              "      <div>\n",
              "<style scoped>\n",
              "    .dataframe tbody tr th:only-of-type {\n",
              "        vertical-align: middle;\n",
              "    }\n",
              "\n",
              "    .dataframe tbody tr th {\n",
              "        vertical-align: top;\n",
              "    }\n",
              "\n",
              "    .dataframe thead th {\n",
              "        text-align: right;\n",
              "    }\n",
              "</style>\n",
              "<table border=\"1\" class=\"dataframe\">\n",
              "  <thead>\n",
              "    <tr style=\"text-align: right;\">\n",
              "      <th></th>\n",
              "      <th>age</th>\n",
              "      <th>sex</th>\n",
              "      <th>cp</th>\n",
              "      <th>trestbps</th>\n",
              "      <th>chol</th>\n",
              "      <th>fbs</th>\n",
              "      <th>restecg</th>\n",
              "      <th>thalach</th>\n",
              "      <th>exang</th>\n",
              "      <th>oldpeak</th>\n",
              "      <th>slope</th>\n",
              "      <th>ca</th>\n",
              "      <th>thal</th>\n",
              "      <th>target</th>\n",
              "    </tr>\n",
              "  </thead>\n",
              "  <tbody>\n",
              "    <tr>\n",
              "      <th>age</th>\n",
              "      <td>1.000000</td>\n",
              "      <td>-0.094962</td>\n",
              "      <td>-0.063107</td>\n",
              "      <td>0.283121</td>\n",
              "      <td>0.207216</td>\n",
              "      <td>0.119492</td>\n",
              "      <td>-0.111590</td>\n",
              "      <td>-0.395235</td>\n",
              "      <td>0.093216</td>\n",
              "      <td>0.206040</td>\n",
              "      <td>-0.164124</td>\n",
              "      <td>0.302261</td>\n",
              "      <td>0.065317</td>\n",
              "      <td>-0.221476</td>\n",
              "    </tr>\n",
              "    <tr>\n",
              "      <th>sex</th>\n",
              "      <td>-0.094962</td>\n",
              "      <td>1.000000</td>\n",
              "      <td>-0.051740</td>\n",
              "      <td>-0.057647</td>\n",
              "      <td>-0.195571</td>\n",
              "      <td>0.046022</td>\n",
              "      <td>-0.060351</td>\n",
              "      <td>-0.046439</td>\n",
              "      <td>0.143460</td>\n",
              "      <td>0.098322</td>\n",
              "      <td>-0.032990</td>\n",
              "      <td>0.113060</td>\n",
              "      <td>0.211452</td>\n",
              "      <td>-0.283609</td>\n",
              "    </tr>\n",
              "    <tr>\n",
              "      <th>cp</th>\n",
              "      <td>-0.063107</td>\n",
              "      <td>-0.051740</td>\n",
              "      <td>1.000000</td>\n",
              "      <td>0.046486</td>\n",
              "      <td>-0.072682</td>\n",
              "      <td>0.096018</td>\n",
              "      <td>0.041561</td>\n",
              "      <td>0.293367</td>\n",
              "      <td>-0.392937</td>\n",
              "      <td>-0.146692</td>\n",
              "      <td>0.116854</td>\n",
              "      <td>-0.195356</td>\n",
              "      <td>-0.160370</td>\n",
              "      <td>0.432080</td>\n",
              "    </tr>\n",
              "    <tr>\n",
              "      <th>trestbps</th>\n",
              "      <td>0.283121</td>\n",
              "      <td>-0.057647</td>\n",
              "      <td>0.046486</td>\n",
              "      <td>1.000000</td>\n",
              "      <td>0.125256</td>\n",
              "      <td>0.178125</td>\n",
              "      <td>-0.115367</td>\n",
              "      <td>-0.048023</td>\n",
              "      <td>0.068526</td>\n",
              "      <td>0.194600</td>\n",
              "      <td>-0.122873</td>\n",
              "      <td>0.099248</td>\n",
              "      <td>0.062870</td>\n",
              "      <td>-0.146269</td>\n",
              "    </tr>\n",
              "    <tr>\n",
              "      <th>chol</th>\n",
              "      <td>0.207216</td>\n",
              "      <td>-0.195571</td>\n",
              "      <td>-0.072682</td>\n",
              "      <td>0.125256</td>\n",
              "      <td>1.000000</td>\n",
              "      <td>0.011428</td>\n",
              "      <td>-0.147602</td>\n",
              "      <td>-0.005308</td>\n",
              "      <td>0.064099</td>\n",
              "      <td>0.050086</td>\n",
              "      <td>0.000417</td>\n",
              "      <td>0.086878</td>\n",
              "      <td>0.096810</td>\n",
              "      <td>-0.081437</td>\n",
              "    </tr>\n",
              "    <tr>\n",
              "      <th>fbs</th>\n",
              "      <td>0.119492</td>\n",
              "      <td>0.046022</td>\n",
              "      <td>0.096018</td>\n",
              "      <td>0.178125</td>\n",
              "      <td>0.011428</td>\n",
              "      <td>1.000000</td>\n",
              "      <td>-0.083081</td>\n",
              "      <td>-0.007169</td>\n",
              "      <td>0.024729</td>\n",
              "      <td>0.004514</td>\n",
              "      <td>-0.058654</td>\n",
              "      <td>0.144935</td>\n",
              "      <td>-0.032752</td>\n",
              "      <td>-0.026826</td>\n",
              "    </tr>\n",
              "    <tr>\n",
              "      <th>restecg</th>\n",
              "      <td>-0.111590</td>\n",
              "      <td>-0.060351</td>\n",
              "      <td>0.041561</td>\n",
              "      <td>-0.115367</td>\n",
              "      <td>-0.147602</td>\n",
              "      <td>-0.083081</td>\n",
              "      <td>1.000000</td>\n",
              "      <td>0.041210</td>\n",
              "      <td>-0.068807</td>\n",
              "      <td>-0.056251</td>\n",
              "      <td>0.090402</td>\n",
              "      <td>-0.083112</td>\n",
              "      <td>-0.010473</td>\n",
              "      <td>0.134874</td>\n",
              "    </tr>\n",
              "    <tr>\n",
              "      <th>thalach</th>\n",
              "      <td>-0.395235</td>\n",
              "      <td>-0.046439</td>\n",
              "      <td>0.293367</td>\n",
              "      <td>-0.048023</td>\n",
              "      <td>-0.005308</td>\n",
              "      <td>-0.007169</td>\n",
              "      <td>0.041210</td>\n",
              "      <td>1.000000</td>\n",
              "      <td>-0.377411</td>\n",
              "      <td>-0.342201</td>\n",
              "      <td>0.384754</td>\n",
              "      <td>-0.228311</td>\n",
              "      <td>-0.094910</td>\n",
              "      <td>0.419955</td>\n",
              "    </tr>\n",
              "    <tr>\n",
              "      <th>exang</th>\n",
              "      <td>0.093216</td>\n",
              "      <td>0.143460</td>\n",
              "      <td>-0.392937</td>\n",
              "      <td>0.068526</td>\n",
              "      <td>0.064099</td>\n",
              "      <td>0.024729</td>\n",
              "      <td>-0.068807</td>\n",
              "      <td>-0.377411</td>\n",
              "      <td>1.000000</td>\n",
              "      <td>0.286766</td>\n",
              "      <td>-0.256106</td>\n",
              "      <td>0.125377</td>\n",
              "      <td>0.205826</td>\n",
              "      <td>-0.435601</td>\n",
              "    </tr>\n",
              "    <tr>\n",
              "      <th>oldpeak</th>\n",
              "      <td>0.206040</td>\n",
              "      <td>0.098322</td>\n",
              "      <td>-0.146692</td>\n",
              "      <td>0.194600</td>\n",
              "      <td>0.050086</td>\n",
              "      <td>0.004514</td>\n",
              "      <td>-0.056251</td>\n",
              "      <td>-0.342201</td>\n",
              "      <td>0.286766</td>\n",
              "      <td>1.000000</td>\n",
              "      <td>-0.576314</td>\n",
              "      <td>0.236560</td>\n",
              "      <td>0.209090</td>\n",
              "      <td>-0.429146</td>\n",
              "    </tr>\n",
              "    <tr>\n",
              "      <th>slope</th>\n",
              "      <td>-0.164124</td>\n",
              "      <td>-0.032990</td>\n",
              "      <td>0.116854</td>\n",
              "      <td>-0.122873</td>\n",
              "      <td>0.000417</td>\n",
              "      <td>-0.058654</td>\n",
              "      <td>0.090402</td>\n",
              "      <td>0.384754</td>\n",
              "      <td>-0.256106</td>\n",
              "      <td>-0.576314</td>\n",
              "      <td>1.000000</td>\n",
              "      <td>-0.092236</td>\n",
              "      <td>-0.103314</td>\n",
              "      <td>0.343940</td>\n",
              "    </tr>\n",
              "    <tr>\n",
              "      <th>ca</th>\n",
              "      <td>0.302261</td>\n",
              "      <td>0.113060</td>\n",
              "      <td>-0.195356</td>\n",
              "      <td>0.099248</td>\n",
              "      <td>0.086878</td>\n",
              "      <td>0.144935</td>\n",
              "      <td>-0.083112</td>\n",
              "      <td>-0.228311</td>\n",
              "      <td>0.125377</td>\n",
              "      <td>0.236560</td>\n",
              "      <td>-0.092236</td>\n",
              "      <td>1.000000</td>\n",
              "      <td>0.160085</td>\n",
              "      <td>-0.408992</td>\n",
              "    </tr>\n",
              "    <tr>\n",
              "      <th>thal</th>\n",
              "      <td>0.065317</td>\n",
              "      <td>0.211452</td>\n",
              "      <td>-0.160370</td>\n",
              "      <td>0.062870</td>\n",
              "      <td>0.096810</td>\n",
              "      <td>-0.032752</td>\n",
              "      <td>-0.010473</td>\n",
              "      <td>-0.094910</td>\n",
              "      <td>0.205826</td>\n",
              "      <td>0.209090</td>\n",
              "      <td>-0.103314</td>\n",
              "      <td>0.160085</td>\n",
              "      <td>1.000000</td>\n",
              "      <td>-0.343101</td>\n",
              "    </tr>\n",
              "    <tr>\n",
              "      <th>target</th>\n",
              "      <td>-0.221476</td>\n",
              "      <td>-0.283609</td>\n",
              "      <td>0.432080</td>\n",
              "      <td>-0.146269</td>\n",
              "      <td>-0.081437</td>\n",
              "      <td>-0.026826</td>\n",
              "      <td>0.134874</td>\n",
              "      <td>0.419955</td>\n",
              "      <td>-0.435601</td>\n",
              "      <td>-0.429146</td>\n",
              "      <td>0.343940</td>\n",
              "      <td>-0.408992</td>\n",
              "      <td>-0.343101</td>\n",
              "      <td>1.000000</td>\n",
              "    </tr>\n",
              "  </tbody>\n",
              "</table>\n",
              "</div>\n",
              "      <button class=\"colab-df-convert\" onclick=\"convertToInteractive('df-ab067178-67b4-493d-94ea-a3543fd6c122')\"\n",
              "              title=\"Convert this dataframe to an interactive table.\"\n",
              "              style=\"display:none;\">\n",
              "        \n",
              "  <svg xmlns=\"http://www.w3.org/2000/svg\" height=\"24px\"viewBox=\"0 0 24 24\"\n",
              "       width=\"24px\">\n",
              "    <path d=\"M0 0h24v24H0V0z\" fill=\"none\"/>\n",
              "    <path d=\"M18.56 5.44l.94 2.06.94-2.06 2.06-.94-2.06-.94-.94-2.06-.94 2.06-2.06.94zm-11 1L8.5 8.5l.94-2.06 2.06-.94-2.06-.94L8.5 2.5l-.94 2.06-2.06.94zm10 10l.94 2.06.94-2.06 2.06-.94-2.06-.94-.94-2.06-.94 2.06-2.06.94z\"/><path d=\"M17.41 7.96l-1.37-1.37c-.4-.4-.92-.59-1.43-.59-.52 0-1.04.2-1.43.59L10.3 9.45l-7.72 7.72c-.78.78-.78 2.05 0 2.83L4 21.41c.39.39.9.59 1.41.59.51 0 1.02-.2 1.41-.59l7.78-7.78 2.81-2.81c.8-.78.8-2.07 0-2.86zM5.41 20L4 18.59l7.72-7.72 1.47 1.35L5.41 20z\"/>\n",
              "  </svg>\n",
              "      </button>\n",
              "      \n",
              "  <style>\n",
              "    .colab-df-container {\n",
              "      display:flex;\n",
              "      flex-wrap:wrap;\n",
              "      gap: 12px;\n",
              "    }\n",
              "\n",
              "    .colab-df-convert {\n",
              "      background-color: #E8F0FE;\n",
              "      border: none;\n",
              "      border-radius: 50%;\n",
              "      cursor: pointer;\n",
              "      display: none;\n",
              "      fill: #1967D2;\n",
              "      height: 32px;\n",
              "      padding: 0 0 0 0;\n",
              "      width: 32px;\n",
              "    }\n",
              "\n",
              "    .colab-df-convert:hover {\n",
              "      background-color: #E2EBFA;\n",
              "      box-shadow: 0px 1px 2px rgba(60, 64, 67, 0.3), 0px 1px 3px 1px rgba(60, 64, 67, 0.15);\n",
              "      fill: #174EA6;\n",
              "    }\n",
              "\n",
              "    [theme=dark] .colab-df-convert {\n",
              "      background-color: #3B4455;\n",
              "      fill: #D2E3FC;\n",
              "    }\n",
              "\n",
              "    [theme=dark] .colab-df-convert:hover {\n",
              "      background-color: #434B5C;\n",
              "      box-shadow: 0px 1px 3px 1px rgba(0, 0, 0, 0.15);\n",
              "      filter: drop-shadow(0px 1px 2px rgba(0, 0, 0, 0.3));\n",
              "      fill: #FFFFFF;\n",
              "    }\n",
              "  </style>\n",
              "\n",
              "      <script>\n",
              "        const buttonEl =\n",
              "          document.querySelector('#df-ab067178-67b4-493d-94ea-a3543fd6c122 button.colab-df-convert');\n",
              "        buttonEl.style.display =\n",
              "          google.colab.kernel.accessAllowed ? 'block' : 'none';\n",
              "\n",
              "        async function convertToInteractive(key) {\n",
              "          const element = document.querySelector('#df-ab067178-67b4-493d-94ea-a3543fd6c122');\n",
              "          const dataTable =\n",
              "            await google.colab.kernel.invokeFunction('convertToInteractive',\n",
              "                                                     [key], {});\n",
              "          if (!dataTable) return;\n",
              "\n",
              "          const docLinkHtml = 'Like what you see? Visit the ' +\n",
              "            '<a target=\"_blank\" href=https://colab.research.google.com/notebooks/data_table.ipynb>data table notebook</a>'\n",
              "            + ' to learn more about interactive tables.';\n",
              "          element.innerHTML = '';\n",
              "          dataTable['output_type'] = 'display_data';\n",
              "          await google.colab.output.renderOutput(dataTable, element);\n",
              "          const docLink = document.createElement('div');\n",
              "          docLink.innerHTML = docLinkHtml;\n",
              "          element.appendChild(docLink);\n",
              "        }\n",
              "      </script>\n",
              "    </div>\n",
              "  </div>\n",
              "  "
            ]
          },
          "metadata": {},
          "execution_count": 21
        }
      ],
      "source": [
        "df.corr()"
      ]
    },
    {
      "cell_type": "code",
      "execution_count": 22,
      "metadata": {
        "ExecutionTime": {
          "end_time": "2021-07-01T18:47:52.551127Z",
          "start_time": "2021-07-01T18:47:52.217943Z"
        },
        "provenance": [
          {
            "end_time": "2021-06-16T03:12:36.593Z",
            "execution_time": "33ms",
            "outputs": [
              {
                "ename": "NameError",
                "evalue": "name 'song_corr' is not defined",
                "output_type": "error",
                "traceback": [
                  "\u001b[1;31m---------------------------------------------------------------------------\u001b[0m",
                  "\u001b[1;31mNameError\u001b[0m                                 Traceback (most recent call last)",
                  "\u001b[1;32m<ipython-input-16-d20684737214>\u001b[0m in \u001b[0;36m<module>\u001b[1;34m\u001b[0m\n\u001b[0;32m      5\u001b[0m \u001b[1;33m\u001b[0m\u001b[0m\n\u001b[0;32m      6\u001b[0m \u001b[0mplt\u001b[0m\u001b[1;33m.\u001b[0m\u001b[0mfigure\u001b[0m\u001b[1;33m(\u001b[0m\u001b[0mfigsize\u001b[0m\u001b[1;33m=\u001b[0m \u001b[1;33m(\u001b[0m\u001b[1;36m20\u001b[0m\u001b[1;33m,\u001b[0m\u001b[1;36m10\u001b[0m\u001b[1;33m)\u001b[0m\u001b[1;33m)\u001b[0m\u001b[1;33m\u001b[0m\u001b[1;33m\u001b[0m\u001b[0m\n\u001b[1;32m----> 7\u001b[1;33m \u001b[0msns\u001b[0m\u001b[1;33m.\u001b[0m\u001b[0mheatmap\u001b[0m\u001b[1;33m(\u001b[0m\u001b[0msong_corr\u001b[0m\u001b[1;33m,\u001b[0m \u001b[0mcmap\u001b[0m\u001b[1;33m=\u001b[0m\u001b[1;34m'magma'\u001b[0m\u001b[1;33m,\u001b[0m \u001b[0mlinewidth\u001b[0m\u001b[1;33m=\u001b[0m\u001b[1;36m2\u001b[0m\u001b[1;33m,\u001b[0m \u001b[0mlinecolor\u001b[0m\u001b[1;33m=\u001b[0m\u001b[1;34m'white'\u001b[0m\u001b[1;33m)\u001b[0m\u001b[1;33m\u001b[0m\u001b[1;33m\u001b[0m\u001b[0m\n\u001b[0m\u001b[0;32m      8\u001b[0m \u001b[0mplt\u001b[0m\u001b[1;33m.\u001b[0m\u001b[0mshow\u001b[0m\u001b[1;33m(\u001b[0m\u001b[1;33m)\u001b[0m\u001b[1;33m\u001b[0m\u001b[1;33m\u001b[0m\u001b[0m\n",
                  "\u001b[1;31mNameError\u001b[0m: name 'song_corr' is not defined"
                ]
              },
              {
                "data": {
                  "text/plain": "<Figure size 1440x720 with 0 Axes>"
                },
                "metadata": {},
                "output_type": "display_data",
                "transient": {}
              }
            ],
            "source": "import seaborn as sns\n\n\ndata_corr=df.corr()\n\nplt.figure(figsize= (20,10))\nsns.heatmap(song_corr, cmap='magma', linewidth=2, linecolor='white')\nplt.show()",
            "start_time": "2021-06-16T03:12:36.560Z"
          },
          {
            "end_time": "2021-06-16T03:12:51.050Z",
            "execution_time": "1.01s",
            "outputs": [
              {
                "data": {
                  "image/png": "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\n",
                  "text/plain": "<Figure size 1440x720 with 2 Axes>"
                },
                "metadata": {
                  "needs_background": "light"
                },
                "output_type": "display_data",
                "transient": {}
              }
            ],
            "source": "import seaborn as sns\n\n\ndata_corr=df.corr()\n\nplt.figure(figsize= (20,10))\nsns.heatmap(data_corr, cmap='magma', linewidth=2, linecolor='white')\nplt.show()",
            "start_time": "2021-06-16T03:12:50.043Z"
          },
          {
            "end_time": "2021-06-16T08:40:54.594Z",
            "execution_time": "225ms",
            "outputs": [
              {
                "data": {
                  "image/png": "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\n",
                  "text/plain": "<Figure size 1440x720 with 2 Axes>"
                },
                "metadata": {
                  "needs_background": "light"
                },
                "output_type": "display_data",
                "transient": {}
              }
            ],
            "source": "import seaborn as sns\n\n\ndata_corr=df.corr()\n\nplt.figure(figsize= (20,10))\nsns.heatmap(data_corr, cmap='magma', linewidth=2, linecolor='white')\nplt.show()",
            "start_time": "2021-06-16T08:40:54.369Z"
          },
          {
            "end_time": "2021-06-30T08:45:11.095Z",
            "execution_time": "343ms",
            "outputs": [
              {
                "data": {
                  "image/png": "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\n",
                  "text/plain": "<Figure size 1440x720 with 2 Axes>"
                },
                "metadata": {
                  "needs_background": "light"
                },
                "output_type": "display_data",
                "transient": {}
              }
            ],
            "source": "import seaborn as sns\n\n\ndata_corr=df.corr()\n\nplt.figure(figsize= (20,10))\nsns.heatmap(data_corr, cmap='magma', linewidth=2, linecolor='white')\nplt.show()",
            "start_time": "2021-06-30T08:45:10.752Z"
          },
          {
            "end_time": "2021-07-01T18:47:52.551Z",
            "execution_time": "334ms",
            "outputs": [
              {
                "data": {
                  "image/png": "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\n",
                  "text/plain": "<Figure size 1440x720 with 2 Axes>"
                },
                "metadata": {
                  "needs_background": "light"
                },
                "output_type": "display_data",
                "transient": {}
              }
            ],
            "source": "import seaborn as sns\n\n\ndata_corr=df.corr()\n\nplt.figure(figsize= (20,10))\nsns.heatmap(data_corr, cmap='magma', linewidth=2, linecolor='white')\nplt.show()",
            "start_time": "2021-07-01T18:47:52.217Z"
          }
        ],
        "id": "Mhf9FRIGR_5Q",
        "outputId": "40aa96af-13f6-4a86-c825-2e0546b13fda",
        "colab": {
          "base_uri": "https://localhost:8080/",
          "height": 595
        }
      },
      "outputs": [
        {
          "output_type": "display_data",
          "data": {
            "text/plain": [
              "<Figure size 1440x720 with 2 Axes>"
            ],
            "image/png": "[encoded data removed]"
          },
          "metadata": {
            "needs_background": "light"
          }
        }
      ],
      "source": [
        "import seaborn as sns\n",
        "\n",
        "\n",
        "data_corr=df.corr()\n",
        "\n",
        "plt.figure(figsize= (20,10))\n",
        "sns.heatmap(data_corr, cmap='magma', linewidth=2, linecolor='white')\n",
        "plt.show()"
      ]
    },
    {
      "cell_type": "code",
      "execution_count": null,
      "metadata": {
        "id": "iD81EnunR_5g"
      },
      "outputs": [],
      "source": []
    },
    {
      "cell_type": "markdown",
      "source": [
        "BUILDING A MACHINE LEARNING MODEL"
      ],
      "metadata": {
        "id": "J7UMZnY967eV"
      }
    },
    {
      "cell_type": "code",
      "source": [
        "#collecting data from the user \n",
        "Age = input('how old are you? ')\n",
        "Sex = input('are you a male or a female? ')\n",
        " "
      ],
      "metadata": {
        "colab": {
          "base_uri": "https://localhost:8080/"
        },
        "id": "78QYJSgA7SNG",
        "outputId": "cb2bd2ef-2392-4b69-cf5b-c1ac0cdf3826"
      },
      "execution_count": 37,
      "outputs": [
        {
          "name": "stdout",
          "output_type": "stream",
          "text": [
            "how old are you? 45\n",
            "are you a male or a female? female\n"
          ]
        }
      ]
    },
    {
      "cell_type": "code",
      "source": [],
      "metadata": {
        "id": "siR7YsPg7SUN"
      },
      "execution_count": null,
      "outputs": []
    }
  ],
  "metadata": {
    "celltoolbar": "Raw Cell Format",
    "kernelspec": {
      "display_name": "Python 3 (ipykernel)",
      "language": "python",
      "name": "python3"
    },
    "language_info": {
      "codemirror_mode": {
        "name": "ipython",
        "version": 3
      },
      "file_extension": ".py",
      "mimetype": "text/x-python",
      "name": "python",
      "nbconvert_exporter": "python",
      "pygments_lexer": "ipython3",
      "version": "3.9.12"
    },
    "colab": {
      "provenance": [],
      "collapsed_sections": []
    }
  },
  "nbformat": 4,
  "nbformat_minor": 0
}